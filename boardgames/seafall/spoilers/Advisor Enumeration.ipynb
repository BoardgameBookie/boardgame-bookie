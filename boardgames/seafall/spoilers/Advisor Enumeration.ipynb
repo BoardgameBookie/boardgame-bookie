{
 "cells": [
  {
   "cell_type": "code",
   "execution_count": 1,
   "metadata": {
    "collapsed": true
   },
   "outputs": [],
   "source": [
    "%matplotlib inline\n",
    "\n",
    "import itertools\n",
    "import matplotlib\n",
    "import matplotlib.pyplot\n",
    "import numpy\n",
    "import os\n",
    "import pandas\n",
    "import scipy.misc\n",
    "import scipy.special\n",
    "import scipy.stats\n",
    "import seaborn"
   ]
  },
  {
   "cell_type": "code",
   "execution_count": 2,
   "metadata": {
    "collapsed": true
   },
   "outputs": [],
   "source": [
    "# colormap for data visualizations\n",
    "cmap = seaborn.cubehelix_palette(n_colors = 20, start = 0.8, rot = 0.75,\n",
    "                                gamma = 0.3, hue = 2.0, dark = 0.005,\n",
    "                                light = 0.95, reverse = True, as_cmap = True)"
   ]
  },
  {
   "cell_type": "markdown",
   "metadata": {},
   "source": [
    "How many different combinations of advisors and retired advisor stickers exist? Is it as straightforward as enumerating the combinations between the number of empty advisor slots and retired advisor stickers? Though this creates an upper limit, does the order of the retired advisor stickers prevent some combinations from happening? The number of players will effect the distribution of stickers at the end of the game. The timing of boxes openning will bias the addition of stickers to earlier advisors. Therefore, in addition to the possible combinations, what is the distribution of retired advisor stickers? I think this last question is best answered through simulation."
   ]
  },
  {
   "cell_type": "markdown",
   "metadata": {},
   "source": [
    "# Enumerating the upper limit of adivsor combinations."
   ]
  },
  {
   "cell_type": "code",
   "execution_count": null,
   "metadata": {
    "collapsed": true
   },
   "outputs": [],
   "source": []
  }
 ],
 "metadata": {
  "kernelspec": {
   "display_name": "Python 3",
   "language": "python",
   "name": "python3"
  },
  "language_info": {
   "codemirror_mode": {
    "name": "ipython",
    "version": 3
   },
   "file_extension": ".py",
   "mimetype": "text/x-python",
   "name": "python",
   "nbconvert_exporter": "python",
   "pygments_lexer": "ipython3",
   "version": "3.6.3"
  }
 },
 "nbformat": 4,
 "nbformat_minor": 2
}
