{
 "cells": [
  {
   "cell_type": "markdown",
   "metadata": {},
   "source": [
    "# Logic Test\n",
    "A notebook to test the classes and methods within `SeaFallLogic.py`."
   ]
  },
  {
   "cell_type": "code",
   "execution_count": 1,
   "metadata": {},
   "outputs": [],
   "source": [
    "%matplotlib inline\n",
    "import numpy\n",
    "import matplotlib\n",
    "from matplotlib.patches import Circle, Wedge, Polygon\n",
    "from matplotlib.collections import PatchCollection\n",
    "import matplotlib.pyplot as plt\n",
    "import matplotlib.patches as mpatches\n",
    "import matplotlib.lines as mlines\n",
    "import matplotlib.path as mpath\n",
    "import numpy as np\n",
    "import seaborn as sns\n",
    "import networkx as nx\n",
    "import pandas as pd"
   ]
  },
  {
   "cell_type": "code",
   "execution_count": 2,
   "metadata": {},
   "outputs": [],
   "source": [
    "import SeaFallLogic"
   ]
  },
  {
   "cell_type": "markdown",
   "metadata": {
    "collapsed": true
   },
   "source": [
    "#### Ship test\n",
    "Create a ship object and change its values."
   ]
  },
  {
   "cell_type": "code",
   "execution_count": 2,
   "metadata": {
    "collapsed": true
   },
   "outputs": [],
   "source": [
    "class Ship():\n",
    "    # Rules, pg 8, \"Province Boards\" also inlcude information about ships\n",
    "    def __init__(self):\n",
    "        self.damage = []\n",
    "        # hold, a list of objects with max length hold\n",
    "        self.hold = []\n",
    "        # upgrades, a list of upgrade objects of max length 2\n",
    "        self.upgrades = []\n",
    "        # values (explore, hold, raid, sail)\n",
    "        self._values = (1, 1, 1, 1)\n",
    "        # vmax is the maximum number values can reach for (explore, hold, raid,\n",
    "        # sail)\n",
    "        self._vmax = (5, 5, 5, 5)\n",
    "    \n",
    "    @property\n",
    "    def values(self):\n",
    "        return self._values\n",
    "    \n",
    "    @values.setter\n",
    "    def values(self, values):\n",
    "        if not isinstance(values, tuple):\n",
    "            err_str = (\"Not a valid data type. The data type should be a tuple\"\n",
    "                       \" of 4 length.\")\n",
    "            raise ValueError(err_str)\n",
    "        elif len(values) != 4:\n",
    "            err_str = (\"Not a valid data type. The data type should be a tuple\"\n",
    "                       \" of 4 length.\")\n",
    "            raise ValueError(err_str)\n",
    "        \n",
    "        for val, vmax in zip(values, self.vmax):\n",
    "            if val > vmax:\n",
    "                raise ValueError(\"A ship value exceeds its max.\")\n",
    "\n",
    "        self._values = values\n",
    "\n",
    "    @property\n",
    "    def vmax(self):\n",
    "        return self._vmax\n",
    "    \n",
    "    @vmax.setter\n",
    "    def vmax(self, vmax_tuple):\n",
    "        if not isinstance(vmax_tuple, tuple):\n",
    "            err_str = (\"Not a valid data type. The data type should be a tuple\"\n",
    "                       \" of 4 length.\")\n",
    "            raise ValueError(err_str)\n",
    "        elif len(vmax_tuple) != 4:\n",
    "            err_str = (\"Not a valid data type. The data type should be a tuple\"\n",
    "                       \" of 4 length.\")\n",
    "            raise ValueError(err_str)\n",
    "\n",
    "        for val, vmax in zip((5, 5, 5, 5), vmax_tuple):\n",
    "            if val > vmax:\n",
    "                raise ValueError(\"The maximum ship values are never less than (5, 5, 5, 5).\")\n",
    "\n",
    "        self._vmax = vmax"
   ]
  },
  {
   "cell_type": "code",
   "execution_count": 3,
   "metadata": {
    "collapsed": true
   },
   "outputs": [],
   "source": [
    "ship = Ship()"
   ]
  },
  {
   "cell_type": "code",
   "execution_count": 4,
   "metadata": {},
   "outputs": [
    {
     "data": {
      "text/plain": [
       "(1, 1, 1, 1)"
      ]
     },
     "execution_count": 4,
     "metadata": {},
     "output_type": "execute_result"
    }
   ],
   "source": [
    "ship.values"
   ]
  },
  {
   "cell_type": "markdown",
   "metadata": {
    "collapsed": true
   },
   "source": [
    "# Island Test\n",
    "See how class inheritence works on an island site."
   ]
  },
  {
   "cell_type": "code",
   "execution_count": 5,
   "metadata": {
    "collapsed": true
   },
   "outputs": [],
   "source": [
    "class Site():\n",
    "    def __init__(self, dangerous=False, defense=0):\n",
    "        # Rules, pg 10, \"Dangerous Sites\"\n",
    "        self.dangerous = dangerous\n",
    "        # Rules, pg 10, \"Starting an Endeavor\"\n",
    "        # Rules, pg 7, \"Defense\"\n",
    "        self.defense = defense\n",
    "\n",
    "class IslandSiteMine(Site):\n",
    "    def __init__(self, dangerous=False, defense=0, gold=0):\n",
    "        super().__init__(dangerous=dangerous, defense=defense)\n",
    "        self.gold = gold"
   ]
  },
  {
   "cell_type": "code",
   "execution_count": 6,
   "metadata": {
    "collapsed": true
   },
   "outputs": [],
   "source": [
    "mine = IslandSiteMine()"
   ]
  },
  {
   "cell_type": "code",
   "execution_count": 7,
   "metadata": {},
   "outputs": [
    {
     "data": {
      "text/plain": [
       "False"
      ]
     },
     "execution_count": 7,
     "metadata": {},
     "output_type": "execute_result"
    }
   ],
   "source": [
    "mine.dangerous"
   ]
  },
  {
   "cell_type": "code",
   "execution_count": 8,
   "metadata": {},
   "outputs": [
    {
     "data": {
      "text/plain": [
       "0"
      ]
     },
     "execution_count": 8,
     "metadata": {},
     "output_type": "execute_result"
    }
   ],
   "source": [
    "mine.defense"
   ]
  },
  {
   "cell_type": "code",
   "execution_count": 9,
   "metadata": {
    "collapsed": true
   },
   "outputs": [],
   "source": [
    "mine2 = IslandSiteMine(dangerous=True, defense=10, gold=6)"
   ]
  },
  {
   "cell_type": "code",
   "execution_count": 10,
   "metadata": {},
   "outputs": [
    {
     "data": {
      "text/plain": [
       "6"
      ]
     },
     "execution_count": 10,
     "metadata": {},
     "output_type": "execute_result"
    }
   ],
   "source": [
    "mine2.gold"
   ]
  },
  {
   "cell_type": "code",
   "execution_count": 11,
   "metadata": {
    "collapsed": true
   },
   "outputs": [],
   "source": [
    "class Goods():\n",
    "    valid_goods = {\n",
    "        \"iron\",\n",
    "        \"linen\",\n",
    "        \"spice\",\n",
    "        \"wood\"\n",
    "        }\n",
    "    def __init__(self):\n",
    "        pass"
   ]
  },
  {
   "cell_type": "code",
   "execution_count": 14,
   "metadata": {},
   "outputs": [
    {
     "data": {
      "text/plain": [
       "{'iron', 'linen', 'spice', 'wood'}"
      ]
     },
     "execution_count": 14,
     "metadata": {},
     "output_type": "execute_result"
    }
   ],
   "source": [
    "Goods.valid_goods"
   ]
  },
  {
   "cell_type": "code",
   "execution_count": 20,
   "metadata": {},
   "outputs": [
    {
     "data": {
      "text/plain": [
       "True"
      ]
     },
     "execution_count": 20,
     "metadata": {},
     "output_type": "execute_result"
    }
   ],
   "source": [
    "\"iron\" in Goods.valid_goods"
   ]
  },
  {
   "cell_type": "code",
   "execution_count": 22,
   "metadata": {},
   "outputs": [
    {
     "ename": "TypeError",
     "evalue": "'set' object does not support indexing",
     "output_type": "error",
     "traceback": [
      "\u001b[1;31m---------------------------------------------------------------------------\u001b[0m",
      "\u001b[1;31mTypeError\u001b[0m                                 Traceback (most recent call last)",
      "\u001b[1;32m<ipython-input-22-5d9e94b14770>\u001b[0m in \u001b[0;36m<module>\u001b[1;34m()\u001b[0m\n\u001b[1;32m----> 1\u001b[1;33m \u001b[0mGoods\u001b[0m\u001b[1;33m.\u001b[0m\u001b[0mvalid_goods\u001b[0m\u001b[1;33m[\u001b[0m\u001b[1;36m0\u001b[0m\u001b[1;33m]\u001b[0m\u001b[1;33m\u001b[0m\u001b[0m\n\u001b[0m",
      "\u001b[1;31mTypeError\u001b[0m: 'set' object does not support indexing"
     ]
    }
   ],
   "source": []
  },
  {
   "cell_type": "code",
   "execution_count": null,
   "metadata": {
    "collapsed": true
   },
   "outputs": [],
   "source": []
  }
 ],
 "metadata": {
  "kernelspec": {
   "display_name": "Python 3",
   "language": "python",
   "name": "python3"
  },
  "language_info": {
   "codemirror_mode": {
    "name": "ipython",
    "version": 3
   },
   "file_extension": ".py",
   "mimetype": "text/x-python",
   "name": "python",
   "nbconvert_exporter": "python",
   "pygments_lexer": "ipython3",
   "version": "3.6.6"
  }
 },
 "nbformat": 4,
 "nbformat_minor": 2
}
