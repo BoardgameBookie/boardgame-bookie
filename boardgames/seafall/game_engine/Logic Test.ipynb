{
 "cells": [
  {
   "cell_type": "markdown",
   "metadata": {},
   "source": [
    "# Logic Test\n",
    "A notebook to test the classes and methods within `SeaFallLogic.py`."
   ]
  },
  {
   "cell_type": "code",
   "execution_count": 1,
   "metadata": {
    "collapsed": true
   },
   "outputs": [],
   "source": [
    "%matplotlib inline\n",
    "import numpy\n",
    "import matplotlib\n",
    "from matplotlib.patches import Circle, Wedge, Polygon\n",
    "from matplotlib.collections import PatchCollection\n",
    "import matplotlib.pyplot as plt\n",
    "import matplotlib.patches as mpatches\n",
    "import matplotlib.lines as mlines\n",
    "import matplotlib.path as mpath\n",
    "import numpy as np\n",
    "import seaborn as sns\n",
    "import networkx as nx\n",
    "import pandas as pd"
   ]
  },
  {
   "cell_type": "markdown",
   "metadata": {
    "collapsed": true
   },
   "source": [
    "# Ship test\n",
    "Create a ship object and change its values."
   ]
  },
  {
   "cell_type": "code",
   "execution_count": 55,
   "metadata": {},
   "outputs": [],
   "source": [
    "class Ship():\n",
    "    # Rules, pg 8, \"Province Boards\" also inlcude information about ships\n",
    "    def __init__(self):\n",
    "        self.damage = []\n",
    "        # hold, a list of objects with max length hold\n",
    "        self.hold = []\n",
    "        # upgrades, a list of upgrade objects of max length 2\n",
    "        self.upgrades = []\n",
    "        # values (explore, hold, raid, sail)\n",
    "        self._values = (1, 1, 1, 1)\n",
    "        # vmax is the maximum number values can reach for (explore, hold, raid,\n",
    "        # sail)\n",
    "        self._vmax = (5, 5, 5, 5)\n",
    "    \n",
    "    @property\n",
    "    def values(self):\n",
    "        return self._values\n",
    "    \n",
    "    @values.setter\n",
    "    def values(self, values):\n",
    "        if not isinstance(values, tuple):\n",
    "            err_str = (\"Not a valid data type. The data type should be a tuple\"\n",
    "                       \" of 4 length.\")\n",
    "            raise ValueError(err_str)\n",
    "        elif len(values) != 4:\n",
    "            err_str = (\"Not a valid data type. The data type should be a tuple\"\n",
    "                       \" of 4 length.\")\n",
    "            raise ValueError(err_str)\n",
    "        \n",
    "        for val, vmax in zip(values, self.vmax):\n",
    "            if val > vmax:\n",
    "                raise ValueError(\"A ship value exceeds its max.\")\n",
    "\n",
    "        self._values = values\n",
    "\n",
    "    @property\n",
    "    def vmax(self):\n",
    "        return self._vmax\n",
    "    \n",
    "    @vmax.setter\n",
    "    def vmax(self, vmax_tuple):\n",
    "        if not isinstance(vmax_tuple, tuple):\n",
    "            err_str = (\"Not a valid data type. The data type should be a tuple\"\n",
    "                       \" of 4 length.\")\n",
    "            raise ValueError(err_str)\n",
    "        elif len(vmax_tuple) != 4:\n",
    "            err_str = (\"Not a valid data type. The data type should be a tuple\"\n",
    "                       \" of 4 length.\")\n",
    "            raise ValueError(err_str)\n",
    "\n",
    "        for val, vmax in zip((5, 5, 5, 5), vmax_tuple):\n",
    "            if val > vmax:\n",
    "                raise ValueError(\"The maximum ship values are never less than (5, 5, 5, 5).\")\n",
    "\n",
    "        self._vmax = vmax"
   ]
  },
  {
   "cell_type": "code",
   "execution_count": 56,
   "metadata": {},
   "outputs": [],
   "source": [
    "ship = Ship()"
   ]
  },
  {
   "cell_type": "code",
   "execution_count": 57,
   "metadata": {},
   "outputs": [
    {
     "data": {
      "text/plain": [
       "(1, 1, 1, 1)"
      ]
     },
     "execution_count": 57,
     "metadata": {},
     "output_type": "execute_result"
    }
   ],
   "source": [
    "ship.values"
   ]
  },
  {
   "cell_type": "code",
   "execution_count": null,
   "metadata": {
    "collapsed": true
   },
   "outputs": [],
   "source": []
  }
 ],
 "metadata": {
  "kernelspec": {
   "display_name": "Python 3",
   "language": "python",
   "name": "python3"
  },
  "language_info": {
   "codemirror_mode": {
    "name": "ipython",
    "version": 3
   },
   "file_extension": ".py",
   "mimetype": "text/x-python",
   "name": "python",
   "nbconvert_exporter": "python",
   "pygments_lexer": "ipython3",
   "version": "3.6.5"
  }
 },
 "nbformat": 4,
 "nbformat_minor": 2
}
