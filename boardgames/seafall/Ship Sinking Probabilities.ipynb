{
 "cells": [
  {
   "cell_type": "code",
   "execution_count": 1,
   "metadata": {
    "collapsed": true
   },
   "outputs": [],
   "source": [
    "%matplotlib inline\n",
    "\n",
    "import itertools\n",
    "import matplotlib\n",
    "import matplotlib.pyplot\n",
    "import numpy\n",
    "import pandas\n",
    "import scipy.misc\n",
    "import scipy.special\n",
    "import scipy.stats\n",
    "import seaborn"
   ]
  },
  {
   "cell_type": "code",
   "execution_count": 2,
   "metadata": {
    "collapsed": true
   },
   "outputs": [],
   "source": [
    "# colormap for data visualizations\n",
    "cmap = seaborn.cubehelix_palette(n_colors = 6, start = 1.5, rot = 1.5,\n",
    "                                gamma = 1.5, hue = 1.0, dark = 0.525,\n",
    "                                light = 0.96, reverse = False, as_cmap = True)"
   ]
  },
  {
   "cell_type": "markdown",
   "metadata": {},
   "source": [
    "Drawing cards shares similarities with rolling dice and would be equivalent if drawing from a deck of infinite size. However, the damage deck size is relatively small and the distribution of damage cards amongst the ships in play will have an impact on the probability of sinking a ship. However, the distributions may be similar enough that the starting configuration of a full damage deck may prove useful even when several damage cards are in play.\n",
    "\n",
    "The math will be the same as finding the probabilities of poker hands."
   ]
  },
  {
   "cell_type": "code",
   "execution_count": 3,
   "metadata": {
    "collapsed": true
   },
   "outputs": [],
   "source": [
    "damage_num = 20\n",
    "curse_num = 18\n",
    "deck_size = damage_num + curse_num"
   ]
  },
  {
   "cell_type": "markdown",
   "metadata": {},
   "source": [
    "After the \"relic\" event there are two ways that ships sink: collecting 3 standard damage cards (referred to throughout as just damage cards) or collecting 3 curse cards. Note that, even though curse cards and damage cards are pulled from the same deck, a ship can accumulate any combination of damage or curse cards until the threshold of 3 is reached, so their effect on sinking is independent of each other. Thus, sinking a ship includes some chance and fortune."
   ]
  },
  {
   "cell_type": "code",
   "execution_count": 4,
   "metadata": {},
   "outputs": [],
   "source": [
    "def sink_probability_curse(dmg_num, crs_num, hand_size, thresh_crs):\n",
    "    \"\"\"\n",
    "    * dmg_num: the number of standard damage cards in the damage deck\n",
    "    * crs_num: the number of curse cards in the damage deck\n",
    "    * hand_size: the number of cards to be drawn from the damage deck\n",
    "    * thresh_crs: the number of curse cards that will cause a ship to sink, e.g. if a ship already has 1 curse card, the thresh_crs would be 2 since 3 curse cards would sink the ship.\n",
    "    \"\"\"\n",
    "    deck_size = dmg_num + crs_num\n",
    "    p_sink = 0.0\n",
    "    if hand_size - dmg_num >= thresh_crs:\n",
    "        p_sink = 1.0\n",
    "    elif hand_size >= thresh_crs:\n",
    "        hand_array = numpy.arange(0,thresh_crs)\n",
    "        for i in hand_array:\n",
    "            p_sink += scipy.misc.comb(crs_num, i) \\\n",
    "            * scipy.misc.comb(deck_size-crs_num, hand_size-i) \\\n",
    "            / scipy.misc.comb(deck_size, hand_size)\n",
    "        p_sink = 1-p_sink\n",
    "    return p_sink\n",
    "\n",
    "def sink_probability_damage(dmg_num, crs_num, hand_size, thresh_dmg):\n",
    "    deck_size = dmg_num + crs_num\n",
    "    p_sink = 0.0\n",
    "    if hand_size - crs_num >= thresh_dmg:\n",
    "        p_sink = 1.0\n",
    "    elif hand_size >= thresh_dmg:\n",
    "        hand_array = numpy.arange(0,thresh_dmg)\n",
    "        for i in hand_array:\n",
    "            p_sink += scipy.misc.comb(dmg_num, i) \\\n",
    "            * scipy.misc.comb(deck_size-dmg_num, hand_size-i) \\\n",
    "            / scipy.misc.comb(deck_size, hand_size)\n",
    "        p_sink = 1.0 - p_sink\n",
    "        \n",
    "    return p_sink\n",
    "\n",
    "def sink_probability_dmg_and_crs(dmg_num, crs_num, hand_size, thresh_dmg, thresh_crs):\n",
    "    \"\"\"\n",
    "    What is the probability the number of damage cards and curse cards exceed the number required to sink a ship?\n",
    "    \"\"\"\n",
    "    p_sink = 0.0\n",
    "    if hand_size - crs_num >= thresh_dmg and hand_size - dmg_num >= thresh_crs:\n",
    "        p_sink = 1.0\n",
    "    elif hand_size >= thresh_dmg + thresh_crs:\n",
    "        hand_array_dmg = numpy.arange(0,thresh_dmg)\n",
    "        hand_array_crs = numpy.arange(0,thresh_crs)\n",
    "        for i in hand_array_dmg:\n",
    "            p_sink += scipy.misc.comb(dmg_num, i) \\\n",
    "            * scipy.misc.comb(deck_size-dmg_num, hand_size-i) \\\n",
    "            / scipy.misc.comb(deck_size, hand_size)\n",
    "        for i in hand_array_crs:\n",
    "            p_sink += scipy.misc.comb(crs_num, i) \\\n",
    "            * scipy.misc.comb(deck_size-crs_num, hand_size-i) \\\n",
    "            / scipy.misc.comb(deck_size, hand_size)\n",
    "        p_sink = 1.0 - p_sink\n",
    "    return p_sink\n",
    "\n",
    "def sink_probability(dmg_num, crs_num, hand_size, thresh_dmg, thresh_crs):\n",
    "    if hand_size > dmg_num + crs_num:\n",
    "        raise ValueError('The *hand_size* cannot be larger than the number of cards in the deck.')\n",
    "    \n",
    "    p_dmg = sink_probability_damage(dmg_num, crs_num, hand_size, thresh_dmg)\n",
    "    print(p_dmg)\n",
    "    p_crs = sink_probability_curse(dmg_num, crs_num, hand_size, thresh_crs)\n",
    "    print(p_crs)\n",
    "    p_and = sink_probability_dmg_and_crs(dmg_num, crs_num, hand_size, thresh_dmg, thresh_crs)\n",
    "    print(p_and)\n",
    "    p_sink = p_dmg + p_crs - p_and\n",
    "    print(p_sink)\n",
    "    return p_sink"
   ]
  },
  {
   "cell_type": "markdown",
   "metadata": {},
   "source": [
    "The curse cards make a significant change to how likely a ship is to sink (or an endeavor is to fail). Curses reduce the chances of failure via sinking considerably (and this probability is >> than the chance of rolling all blanks, which is the only other way to fail an endeavor). This means a much more aggressive strategy should be adopted when choosing to attempt an endeavor."
   ]
  },
  {
   "cell_type": "code",
   "execution_count": 5,
   "metadata": {},
   "outputs": [
    {
     "name": "stdout",
     "output_type": "stream",
     "text": [
      "0.0\n",
      "0.473684210526\n",
      "0.0\n",
      "0.473684210526\n"
     ]
    },
    {
     "data": {
      "text/plain": [
       "0.47368421052631582"
      ]
     },
     "execution_count": 5,
     "metadata": {},
     "output_type": "execute_result"
    }
   ],
   "source": [
    "sink_probability(damage_num, curse_num, 1, 3, 1)"
   ]
  },
  {
   "cell_type": "markdown",
   "metadata": {},
   "source": [
    "While there is some poker math involved with finding the probability that a ship will sink, the decision-making is straigtforward given the small number of relevant possibilities. Given a healthly ship: 1 or 2 damage will not sink it, 3 or 4 may sink it, 5 or more will 100% sink the ship."
   ]
  },
  {
   "cell_type": "code",
   "execution_count": null,
   "metadata": {
    "collapsed": true
   },
   "outputs": [],
   "source": []
  }
 ],
 "metadata": {
  "kernelspec": {
   "display_name": "Python 3",
   "language": "python",
   "name": "python3"
  },
  "language_info": {
   "codemirror_mode": {
    "name": "ipython",
    "version": 3
   },
   "file_extension": ".py",
   "mimetype": "text/x-python",
   "name": "python",
   "nbconvert_exporter": "python",
   "pygments_lexer": "ipython3",
   "version": "3.6.1"
  }
 },
 "nbformat": 4,
 "nbformat_minor": 2
}
