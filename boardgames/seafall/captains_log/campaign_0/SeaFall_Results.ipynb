{
 "cells": [
  {
   "cell_type": "markdown",
   "metadata": {},
   "source": [
    "# SeaFall Results\n",
    "\n",
    "After 14 games of play the leaderboard has a bit of history and depth. How has each player performed? How did each player reach their current total of glory?\n",
    "\n",
    "## Visualizing Glory\n",
    "\n",
    "The final score of each game is the only clear measure we have of player performance. We have not kept track of further gameplay details from game to game such as gold acquired, relics or tablets recovered, or number of permanent enmity on the board. This means we are limited in how we can describe the success of each player. However, visualizing the "
   ]
  },
  {
   "cell_type": "code",
   "execution_count": 1,
   "metadata": {
    "collapsed": true
   },
   "outputs": [],
   "source": [
    "%matplotlib inline\n",
    "\n",
    "import itertools\n",
    "import matplotlib\n",
    "import matplotlib.pyplot\n",
    "import numpy\n",
    "import pandas\n",
    "import scipy.misc\n",
    "import scipy.special\n",
    "import scipy.stats\n",
    "import seaborn\n",
    "import trueskill\n",
    "import xlrd"
   ]
  },
  {
   "cell_type": "markdown",
   "metadata": {},
   "source": [
    "## TrueSkill\n",
    "\n",
    "Microsoft research created a method for ranking player perfomance in multi-player games called TrueSkill. Let's apply this ranking to our game of SeaFall!\n",
    "\n",
    "The goal of TrueSkill is to estimate a player's *skill* or ability in the game, which provides a different way of looking at the standings. The original implementation of TrueSkill was only concerned with wins, loses, and draws and did not incorporate the scoring in each game. For the free-for-all that is SeaFall the ranking of each player for each game is the input into the skill estimation. Since the ranking does not reflect the total glory accumulated throughout the game, TrueSkill will give a different way to measure and compare each player's performance."
   ]
  },
  {
   "cell_type": "code",
   "execution_count": 2,
   "metadata": {},
   "outputs": [
    {
     "data": {
      "text/html": [
       "<div>\n",
       "<style scoped>\n",
       "    .dataframe tbody tr th:only-of-type {\n",
       "        vertical-align: middle;\n",
       "    }\n",
       "\n",
       "    .dataframe tbody tr th {\n",
       "        vertical-align: top;\n",
       "    }\n",
       "\n",
       "    .dataframe thead th {\n",
       "        text-align: right;\n",
       "    }\n",
       "</style>\n",
       "<table border=\"1\" class=\"dataframe\">\n",
       "  <thead>\n",
       "    <tr style=\"text-align: right;\">\n",
       "      <th></th>\n",
       "      <th>game_number</th>\n",
       "      <th>glory_target</th>\n",
       "      <th>dave</th>\n",
       "      <th>kyle</th>\n",
       "      <th>scott</th>\n",
       "      <th>mike</th>\n",
       "      <th>joe</th>\n",
       "      <th>dave_total</th>\n",
       "      <th>kyle_total</th>\n",
       "      <th>scott_total</th>\n",
       "      <th>...</th>\n",
       "      <th>kyle_rank</th>\n",
       "      <th>scott_rank</th>\n",
       "      <th>mike_rank</th>\n",
       "      <th>joe_rank</th>\n",
       "      <th>dave_norm</th>\n",
       "      <th>kyle_norm</th>\n",
       "      <th>scott_norm</th>\n",
       "      <th>mike_norm</th>\n",
       "      <th>joe_norm</th>\n",
       "      <th>total_glory</th>\n",
       "    </tr>\n",
       "  </thead>\n",
       "  <tbody>\n",
       "    <tr>\n",
       "      <th>0</th>\n",
       "      <td>1</td>\n",
       "      <td>11</td>\n",
       "      <td>11</td>\n",
       "      <td>6</td>\n",
       "      <td>6</td>\n",
       "      <td>5</td>\n",
       "      <td>4</td>\n",
       "      <td>11</td>\n",
       "      <td>6</td>\n",
       "      <td>6</td>\n",
       "      <td>...</td>\n",
       "      <td>2</td>\n",
       "      <td>2</td>\n",
       "      <td>4</td>\n",
       "      <td>5</td>\n",
       "      <td>1.000000</td>\n",
       "      <td>0.545455</td>\n",
       "      <td>0.545455</td>\n",
       "      <td>0.454545</td>\n",
       "      <td>0.363636</td>\n",
       "      <td>32</td>\n",
       "    </tr>\n",
       "    <tr>\n",
       "      <th>1</th>\n",
       "      <td>2</td>\n",
       "      <td>12</td>\n",
       "      <td>6</td>\n",
       "      <td>8</td>\n",
       "      <td>10</td>\n",
       "      <td>12</td>\n",
       "      <td>9</td>\n",
       "      <td>17</td>\n",
       "      <td>14</td>\n",
       "      <td>16</td>\n",
       "      <td>...</td>\n",
       "      <td>4</td>\n",
       "      <td>2</td>\n",
       "      <td>1</td>\n",
       "      <td>3</td>\n",
       "      <td>0.500000</td>\n",
       "      <td>0.666667</td>\n",
       "      <td>0.833333</td>\n",
       "      <td>1.000000</td>\n",
       "      <td>0.750000</td>\n",
       "      <td>45</td>\n",
       "    </tr>\n",
       "    <tr>\n",
       "      <th>2</th>\n",
       "      <td>3</td>\n",
       "      <td>13</td>\n",
       "      <td>9</td>\n",
       "      <td>7</td>\n",
       "      <td>6</td>\n",
       "      <td>12</td>\n",
       "      <td>18</td>\n",
       "      <td>26</td>\n",
       "      <td>21</td>\n",
       "      <td>22</td>\n",
       "      <td>...</td>\n",
       "      <td>4</td>\n",
       "      <td>5</td>\n",
       "      <td>2</td>\n",
       "      <td>1</td>\n",
       "      <td>0.692308</td>\n",
       "      <td>0.538462</td>\n",
       "      <td>0.461538</td>\n",
       "      <td>0.923077</td>\n",
       "      <td>1.384615</td>\n",
       "      <td>52</td>\n",
       "    </tr>\n",
       "    <tr>\n",
       "      <th>3</th>\n",
       "      <td>4</td>\n",
       "      <td>14</td>\n",
       "      <td>14</td>\n",
       "      <td>14</td>\n",
       "      <td>7</td>\n",
       "      <td>2</td>\n",
       "      <td>2</td>\n",
       "      <td>40</td>\n",
       "      <td>35</td>\n",
       "      <td>29</td>\n",
       "      <td>...</td>\n",
       "      <td>1</td>\n",
       "      <td>3</td>\n",
       "      <td>4</td>\n",
       "      <td>4</td>\n",
       "      <td>1.000000</td>\n",
       "      <td>1.000000</td>\n",
       "      <td>0.500000</td>\n",
       "      <td>0.142857</td>\n",
       "      <td>0.142857</td>\n",
       "      <td>39</td>\n",
       "    </tr>\n",
       "    <tr>\n",
       "      <th>4</th>\n",
       "      <td>5</td>\n",
       "      <td>15</td>\n",
       "      <td>15</td>\n",
       "      <td>12</td>\n",
       "      <td>9</td>\n",
       "      <td>12</td>\n",
       "      <td>8</td>\n",
       "      <td>55</td>\n",
       "      <td>47</td>\n",
       "      <td>38</td>\n",
       "      <td>...</td>\n",
       "      <td>2</td>\n",
       "      <td>4</td>\n",
       "      <td>2</td>\n",
       "      <td>5</td>\n",
       "      <td>1.000000</td>\n",
       "      <td>0.800000</td>\n",
       "      <td>0.600000</td>\n",
       "      <td>0.800000</td>\n",
       "      <td>0.533333</td>\n",
       "      <td>56</td>\n",
       "    </tr>\n",
       "    <tr>\n",
       "      <th>5</th>\n",
       "      <td>6</td>\n",
       "      <td>16</td>\n",
       "      <td>14</td>\n",
       "      <td>14</td>\n",
       "      <td>20</td>\n",
       "      <td>12</td>\n",
       "      <td>12</td>\n",
       "      <td>69</td>\n",
       "      <td>61</td>\n",
       "      <td>58</td>\n",
       "      <td>...</td>\n",
       "      <td>2</td>\n",
       "      <td>1</td>\n",
       "      <td>4</td>\n",
       "      <td>4</td>\n",
       "      <td>0.875000</td>\n",
       "      <td>0.875000</td>\n",
       "      <td>1.250000</td>\n",
       "      <td>0.750000</td>\n",
       "      <td>0.750000</td>\n",
       "      <td>72</td>\n",
       "    </tr>\n",
       "    <tr>\n",
       "      <th>6</th>\n",
       "      <td>7</td>\n",
       "      <td>17</td>\n",
       "      <td>5</td>\n",
       "      <td>3</td>\n",
       "      <td>10</td>\n",
       "      <td>10</td>\n",
       "      <td>19</td>\n",
       "      <td>74</td>\n",
       "      <td>64</td>\n",
       "      <td>68</td>\n",
       "      <td>...</td>\n",
       "      <td>5</td>\n",
       "      <td>2</td>\n",
       "      <td>2</td>\n",
       "      <td>1</td>\n",
       "      <td>0.294118</td>\n",
       "      <td>0.176471</td>\n",
       "      <td>0.588235</td>\n",
       "      <td>0.588235</td>\n",
       "      <td>1.117647</td>\n",
       "      <td>47</td>\n",
       "    </tr>\n",
       "    <tr>\n",
       "      <th>7</th>\n",
       "      <td>8</td>\n",
       "      <td>18</td>\n",
       "      <td>6</td>\n",
       "      <td>6</td>\n",
       "      <td>19</td>\n",
       "      <td>7</td>\n",
       "      <td>4</td>\n",
       "      <td>80</td>\n",
       "      <td>70</td>\n",
       "      <td>87</td>\n",
       "      <td>...</td>\n",
       "      <td>3</td>\n",
       "      <td>1</td>\n",
       "      <td>2</td>\n",
       "      <td>5</td>\n",
       "      <td>0.333333</td>\n",
       "      <td>0.333333</td>\n",
       "      <td>1.055556</td>\n",
       "      <td>0.388889</td>\n",
       "      <td>0.222222</td>\n",
       "      <td>42</td>\n",
       "    </tr>\n",
       "    <tr>\n",
       "      <th>8</th>\n",
       "      <td>9</td>\n",
       "      <td>19</td>\n",
       "      <td>8</td>\n",
       "      <td>12</td>\n",
       "      <td>11</td>\n",
       "      <td>25</td>\n",
       "      <td>8</td>\n",
       "      <td>88</td>\n",
       "      <td>82</td>\n",
       "      <td>98</td>\n",
       "      <td>...</td>\n",
       "      <td>2</td>\n",
       "      <td>3</td>\n",
       "      <td>1</td>\n",
       "      <td>4</td>\n",
       "      <td>0.421053</td>\n",
       "      <td>0.631579</td>\n",
       "      <td>0.578947</td>\n",
       "      <td>1.315789</td>\n",
       "      <td>0.421053</td>\n",
       "      <td>64</td>\n",
       "    </tr>\n",
       "    <tr>\n",
       "      <th>9</th>\n",
       "      <td>10</td>\n",
       "      <td>20</td>\n",
       "      <td>7</td>\n",
       "      <td>19</td>\n",
       "      <td>9</td>\n",
       "      <td>20</td>\n",
       "      <td>20</td>\n",
       "      <td>95</td>\n",
       "      <td>101</td>\n",
       "      <td>107</td>\n",
       "      <td>...</td>\n",
       "      <td>3</td>\n",
       "      <td>4</td>\n",
       "      <td>1</td>\n",
       "      <td>1</td>\n",
       "      <td>0.350000</td>\n",
       "      <td>0.950000</td>\n",
       "      <td>0.450000</td>\n",
       "      <td>1.000000</td>\n",
       "      <td>1.000000</td>\n",
       "      <td>75</td>\n",
       "    </tr>\n",
       "    <tr>\n",
       "      <th>10</th>\n",
       "      <td>11</td>\n",
       "      <td>21</td>\n",
       "      <td>13</td>\n",
       "      <td>9</td>\n",
       "      <td>21</td>\n",
       "      <td>14</td>\n",
       "      <td>9</td>\n",
       "      <td>108</td>\n",
       "      <td>110</td>\n",
       "      <td>128</td>\n",
       "      <td>...</td>\n",
       "      <td>4</td>\n",
       "      <td>1</td>\n",
       "      <td>2</td>\n",
       "      <td>4</td>\n",
       "      <td>0.619048</td>\n",
       "      <td>0.428571</td>\n",
       "      <td>1.000000</td>\n",
       "      <td>0.666667</td>\n",
       "      <td>0.428571</td>\n",
       "      <td>66</td>\n",
       "    </tr>\n",
       "    <tr>\n",
       "      <th>11</th>\n",
       "      <td>12</td>\n",
       "      <td>22</td>\n",
       "      <td>15</td>\n",
       "      <td>25</td>\n",
       "      <td>17</td>\n",
       "      <td>16</td>\n",
       "      <td>15</td>\n",
       "      <td>123</td>\n",
       "      <td>135</td>\n",
       "      <td>145</td>\n",
       "      <td>...</td>\n",
       "      <td>1</td>\n",
       "      <td>2</td>\n",
       "      <td>3</td>\n",
       "      <td>4</td>\n",
       "      <td>0.681818</td>\n",
       "      <td>1.136364</td>\n",
       "      <td>0.772727</td>\n",
       "      <td>0.727273</td>\n",
       "      <td>0.681818</td>\n",
       "      <td>88</td>\n",
       "    </tr>\n",
       "    <tr>\n",
       "      <th>12</th>\n",
       "      <td>13</td>\n",
       "      <td>23</td>\n",
       "      <td>23</td>\n",
       "      <td>26</td>\n",
       "      <td>11</td>\n",
       "      <td>14</td>\n",
       "      <td>13</td>\n",
       "      <td>146</td>\n",
       "      <td>161</td>\n",
       "      <td>156</td>\n",
       "      <td>...</td>\n",
       "      <td>1</td>\n",
       "      <td>5</td>\n",
       "      <td>3</td>\n",
       "      <td>4</td>\n",
       "      <td>1.000000</td>\n",
       "      <td>1.130435</td>\n",
       "      <td>0.478261</td>\n",
       "      <td>0.608696</td>\n",
       "      <td>0.565217</td>\n",
       "      <td>87</td>\n",
       "    </tr>\n",
       "  </tbody>\n",
       "</table>\n",
       "<p>13 rows × 28 columns</p>\n",
       "</div>"
      ],
      "text/plain": [
       "    game_number  glory_target  dave  kyle  scott  mike  joe  dave_total  \\\n",
       "0             1            11    11     6      6     5    4          11   \n",
       "1             2            12     6     8     10    12    9          17   \n",
       "2             3            13     9     7      6    12   18          26   \n",
       "3             4            14    14    14      7     2    2          40   \n",
       "4             5            15    15    12      9    12    8          55   \n",
       "5             6            16    14    14     20    12   12          69   \n",
       "6             7            17     5     3     10    10   19          74   \n",
       "7             8            18     6     6     19     7    4          80   \n",
       "8             9            19     8    12     11    25    8          88   \n",
       "9            10            20     7    19      9    20   20          95   \n",
       "10           11            21    13     9     21    14    9         108   \n",
       "11           12            22    15    25     17    16   15         123   \n",
       "12           13            23    23    26     11    14   13         146   \n",
       "\n",
       "    kyle_total  scott_total     ...       kyle_rank  scott_rank  mike_rank  \\\n",
       "0            6            6     ...               2           2          4   \n",
       "1           14           16     ...               4           2          1   \n",
       "2           21           22     ...               4           5          2   \n",
       "3           35           29     ...               1           3          4   \n",
       "4           47           38     ...               2           4          2   \n",
       "5           61           58     ...               2           1          4   \n",
       "6           64           68     ...               5           2          2   \n",
       "7           70           87     ...               3           1          2   \n",
       "8           82           98     ...               2           3          1   \n",
       "9          101          107     ...               3           4          1   \n",
       "10         110          128     ...               4           1          2   \n",
       "11         135          145     ...               1           2          3   \n",
       "12         161          156     ...               1           5          3   \n",
       "\n",
       "    joe_rank  dave_norm  kyle_norm  scott_norm  mike_norm  joe_norm  \\\n",
       "0          5   1.000000   0.545455    0.545455   0.454545  0.363636   \n",
       "1          3   0.500000   0.666667    0.833333   1.000000  0.750000   \n",
       "2          1   0.692308   0.538462    0.461538   0.923077  1.384615   \n",
       "3          4   1.000000   1.000000    0.500000   0.142857  0.142857   \n",
       "4          5   1.000000   0.800000    0.600000   0.800000  0.533333   \n",
       "5          4   0.875000   0.875000    1.250000   0.750000  0.750000   \n",
       "6          1   0.294118   0.176471    0.588235   0.588235  1.117647   \n",
       "7          5   0.333333   0.333333    1.055556   0.388889  0.222222   \n",
       "8          4   0.421053   0.631579    0.578947   1.315789  0.421053   \n",
       "9          1   0.350000   0.950000    0.450000   1.000000  1.000000   \n",
       "10         4   0.619048   0.428571    1.000000   0.666667  0.428571   \n",
       "11         4   0.681818   1.136364    0.772727   0.727273  0.681818   \n",
       "12         4   1.000000   1.130435    0.478261   0.608696  0.565217   \n",
       "\n",
       "    total_glory  \n",
       "0            32  \n",
       "1            45  \n",
       "2            52  \n",
       "3            39  \n",
       "4            56  \n",
       "5            72  \n",
       "6            47  \n",
       "7            42  \n",
       "8            64  \n",
       "9            75  \n",
       "10           66  \n",
       "11           88  \n",
       "12           87  \n",
       "\n",
       "[13 rows x 28 columns]"
      ]
     },
     "execution_count": 2,
     "metadata": {},
     "output_type": "execute_result"
    }
   ],
   "source": [
    "df_glory = pandas.read_excel(\"./glory.xlsx\")\n",
    "df_glory"
   ]
  },
  {
   "cell_type": "code",
   "execution_count": 3,
   "metadata": {
    "collapsed": true
   },
   "outputs": [],
   "source": [
    "dave = trueskill.Rating()\n",
    "kyle = trueskill.Rating()\n",
    "scott = trueskill.Rating()\n",
    "mike = trueskill.Rating()\n",
    "joe = trueskill.Rating()\n",
    "\n"
   ]
  },
  {
   "cell_type": "code",
   "execution_count": 4,
   "metadata": {},
   "outputs": [
    {
     "name": "stdout",
     "output_type": "stream",
     "text": [
      "trueskill.Rating(mu=25.000, sigma=8.333)\n",
      "(trueskill.Rating(mu=34.363, sigma=6.136),)\n",
      "(trueskill.Rating(mu=31.387, sigma=4.344),)\n",
      "(trueskill.Rating(mu=32.687, sigma=6.176),)\n"
     ]
    }
   ],
   "source": [
    "# demo\n",
    "trueskill.quality([(dave,),(kyle,),(scott,),(mike,),(joe,)])\n",
    "print(dave)\n",
    "new_dave, new_kyle, new_scott, new_mike, new_joe = trueskill.rate([(dave,),(kyle,),(scott,),(mike,),(joe,)])\n",
    "print(new_dave)\n",
    "new_dave, new_kyle, new_scott, new_mike, new_joe = trueskill.rate([new_scott,new_kyle,new_dave,new_mike,new_joe])\n",
    "print(new_dave)\n",
    "new_dave, new_kyle, new_scott, new_mike, new_joe = trueskill.rate([(dave,),(kyle,),(scott,),(mike,),(joe,)], ranks=[0, 1, 1, 3, 4])\n",
    "print(new_dave)"
   ]
  },
  {
   "cell_type": "code",
   "execution_count": 5,
   "metadata": {
    "collapsed": true
   },
   "outputs": [],
   "source": [
    "def update_glory(ratings, s_glry):\n",
    "    \n",
    "    new_ratings = trueskill.rate(ratings, ranks=[s_glry[\"dave_rank\"],\n",
    "                                                 s_glry[\"kyle_rank\"],\n",
    "                                                 s_glry[\"scott_rank\"],\n",
    "                                                 s_glry[\"mike_rank\"],\n",
    "                                                 s_glry[\"joe_rank\"]])\n",
    "    \n",
    "    return new_ratings\n",
    "    "
   ]
  },
  {
   "cell_type": "code",
   "execution_count": 6,
   "metadata": {
    "collapsed": true
   },
   "outputs": [],
   "source": [
    "x = df_glory.loc[0]"
   ]
  },
  {
   "cell_type": "code",
   "execution_count": 7,
   "metadata": {
    "collapsed": true
   },
   "outputs": [],
   "source": [
    "mu, sigma = new_dave[0]"
   ]
  },
  {
   "cell_type": "code",
   "execution_count": 8,
   "metadata": {},
   "outputs": [
    {
     "data": {
      "text/plain": [
       "13"
      ]
     },
     "execution_count": 8,
     "metadata": {},
     "output_type": "execute_result"
    }
   ],
   "source": [
    "df_glory.shape[0]"
   ]
  },
  {
   "cell_type": "code",
   "execution_count": 9,
   "metadata": {
    "collapsed": true
   },
   "outputs": [],
   "source": [
    "dave = trueskill.Rating()\n",
    "kyle = trueskill.Rating()\n",
    "scott = trueskill.Rating()\n",
    "mike = trueskill.Rating()\n",
    "joe = trueskill.Rating()\n",
    "\n",
    "ratings = [(dave,),(kyle,),(scott,),(mike,),(joe,)]\n",
    "\n",
    "for ind, row in df_glory.iterrows():\n",
    "    \n",
    "    ratings = update_glory(ratings, row)"
   ]
  },
  {
   "cell_type": "code",
   "execution_count": 10,
   "metadata": {
    "collapsed": true
   },
   "outputs": [],
   "source": [
    "df_q1 = df_glory.loc[(df_glory[\"game_number\"] < 8)]\n",
    "df_q2 = df_glory.loc[(df_glory[\"game_number\"] >= 8)]"
   ]
  },
  {
   "cell_type": "code",
   "execution_count": 11,
   "metadata": {
    "collapsed": true
   },
   "outputs": [],
   "source": [
    "dave = trueskill.Rating()\n",
    "kyle = trueskill.Rating()\n",
    "scott = trueskill.Rating()\n",
    "mike = trueskill.Rating()\n",
    "joe = trueskill.Rating()\n",
    "\n",
    "ratings_q1 = [(dave,),(kyle,),(scott,),(mike,),(joe,)]\n",
    "\n",
    "for ind, row in df_q1.iterrows():\n",
    "    \n",
    "    ratings_q1 = update_glory(ratings_q1, row)"
   ]
  },
  {
   "cell_type": "code",
   "execution_count": 12,
   "metadata": {
    "collapsed": true
   },
   "outputs": [],
   "source": [
    "dave = trueskill.Rating()\n",
    "kyle = trueskill.Rating()\n",
    "scott = trueskill.Rating()\n",
    "mike = trueskill.Rating()\n",
    "joe = trueskill.Rating()\n",
    "\n",
    "ratings_q2 = [(dave,),(kyle,),(scott,),(mike,),(joe,)]\n",
    "\n",
    "for ind, row in df_q2.iterrows():\n",
    "    \n",
    "    ratings_q2 = update_glory(ratings_q2, row)"
   ]
  },
  {
   "cell_type": "code",
   "execution_count": 13,
   "metadata": {
    "collapsed": true
   },
   "outputs": [],
   "source": [
    "def ratings_mu_sigma(rating):\n",
    "    \n",
    "    mu, sigma = rating\n",
    "    \n",
    "    return (mu, sigma)\n",
    "\n",
    "ratings_dict = {\"player\":[\"dave\", \"kyle\", \"scott\", \"mike\", \"joe\"]}\n",
    "ratings_tuple_array = [ratings_mu_sigma(rating[0]) for rating in ratings]\n",
    "ratings_dict[\"mu\"] = [rating[0] for rating in ratings_tuple_array]\n",
    "ratings_dict[\"sigma\"] = [rating[1] for rating in ratings_tuple_array]\n",
    "ratings_tuple_array = [ratings_mu_sigma(rating[0]) for rating in ratings_q1]\n",
    "ratings_dict[\"mu_q1\"] = [rating[0] for rating in ratings_tuple_array]\n",
    "ratings_dict[\"sigma_q1\"] = [rating[1] for rating in ratings_tuple_array]\n",
    "ratings_tuple_array = [ratings_mu_sigma(rating[0]) for rating in ratings_q2]\n",
    "ratings_dict[\"mu_q2\"] = [rating[0] for rating in ratings_tuple_array]\n",
    "ratings_dict[\"sigma_q2\"] = [rating[1] for rating in ratings_tuple_array]\n",
    "ratings_tuple_array = [scipy.stats.norm.interval(0.95, loc=0, scale=sigma) for sigma in ratings_dict[\"sigma\"]]\n",
    "ratings_dict[\"err95\"] = [err[1] for err in ratings_tuple_array]\n",
    "ratings_tuple_array = [scipy.stats.norm.interval(0.95, loc=0, scale=sigma) for sigma in ratings_dict[\"sigma_q1\"]]\n",
    "ratings_dict[\"err95_q1\"] = [err[1] for err in ratings_tuple_array]\n",
    "ratings_tuple_array = [scipy.stats.norm.interval(0.95, loc=0, scale=sigma) for sigma in ratings_dict[\"sigma_q2\"]]\n",
    "ratings_dict[\"err95_q2\"] = [err[1] for err in ratings_tuple_array]"
   ]
  },
  {
   "cell_type": "code",
   "execution_count": 14,
   "metadata": {
    "collapsed": true
   },
   "outputs": [],
   "source": [
    "df_trueskill = pandas.DataFrame.from_dict(ratings_dict)\n",
    "df_trueskill.set_index(\"player\", inplace=True)"
   ]
  },
  {
   "cell_type": "code",
   "execution_count": 15,
   "metadata": {
    "collapsed": true
   },
   "outputs": [],
   "source": [
    "x = df_trueskill.index.values"
   ]
  },
  {
   "cell_type": "code",
   "execution_count": 16,
   "metadata": {},
   "outputs": [
    {
     "data": {
      "text/plain": [
       "['dave', 'kyle', 'scott', 'mike', 'joe']"
      ]
     },
     "execution_count": 16,
     "metadata": {},
     "output_type": "execute_result"
    }
   ],
   "source": [
    "list(x)"
   ]
  },
  {
   "cell_type": "code",
   "execution_count": 17,
   "metadata": {},
   "outputs": [
    {
     "data": {
      "image/png": "[encoded data removed]",
      "text/plain": [
       "<matplotlib.figure.Figure at 0x11efe93e9e8>"
      ]
     },
     "metadata": {},
     "output_type": "display_data"
    }
   ],
   "source": [
    "fig, ax = matplotlib.pyplot.subplots(figsize=(7, 4))\n",
    "\n",
    "ax.axhline(y=25, color=\"lightgray\", linewidth=6, zorder=0)\n",
    "# standard error bars\n",
    "\n",
    "ax.errorbar([-0.2, 0.8, 1.8, 2.8, 3.8], df_trueskill[\"mu_q1\"], yerr=df_trueskill[\"err95_q1\"], \n",
    "            linestyle=\"\", linewidth=2, marker='o', markersize=12, label=\"games 1-7\")\n",
    "ax.errorbar([0, 1, 2, 3, 4], df_trueskill[\"mu_q2\"], yerr=df_trueskill[\"err95_q2\"], \n",
    "            linestyle=\"\", linewidth=2, marker='o', markersize=12, label=\"games 7-14\")\n",
    "ax.errorbar([0.2, 1.2, 2.2, 3.2, 4.2], df_trueskill[\"mu\"], yerr=df_trueskill[\"err95\"], \n",
    "            linestyle=\"\", linewidth=2, marker='o', markersize=12, label=\"games 1-14\")\n",
    "\n",
    "ax.set_xlim((-0.5, 4.5))\n",
    "ax.set_ylabel(\"TrueSkill\\n(25 is average performance)\", fontsize=14)\n",
    "ax.set_ylim((13, 37))\n",
    "ax.set_xticks([0, 1, 2, 3, 4])\n",
    "ax.set_xticklabels(df_trueskill.index.values, rotation=0, fontsize=14)\n",
    "ax.set_title('TrueSkill in SeaFall', fontsize=20)\n",
    "ax.legend(ncol=3, fancybox=True, loc=\"upper center\")\n",
    "\n",
    "fig.savefig(\"TrueSkillResults_games_1_to_14.svg\", format=\"svg\", dpi=1200)\n",
    "fig.savefig(\"TrueSkillResults_games_1_to_14.png\", format=\"png\", dpi=1200)"
   ]
  },
  {
   "cell_type": "markdown",
   "metadata": {
    "collapsed": true
   },
   "source": [
    "# Has anyone separated themselves from the pack (statistically)?\n",
    "All the 95% confidence intervals are overlapping, but the difference between the means could be statistically significant. Let's do this pairwise for all the players, comparing the TrueSkill in games 1-10. We'll do this by calculating the difference distribution between each pair of player TrueSkill distributions. If the this difference distribution does not contain 0 with a 0.05 probability, then we'll consider the skills statistically significant."
   ]
  },
  {
   "cell_type": "code",
   "execution_count": 18,
   "metadata": {
    "collapsed": true
   },
   "outputs": [],
   "source": [
    "trueskill_diff = numpy.zeros((5,5))\n",
    "\n",
    "for pair in itertools.product(df_trueskill.index.values, df_trueskill.index.values):\n",
    "    \n",
    "    row = df_trueskill.index.get_loc(pair[0])\n",
    "    \n",
    "    col = df_trueskill.index.get_loc(pair[1])\n",
    "    \n",
    "    mu0 = df_trueskill[\"mu\"][pair[0]]\n",
    "    \n",
    "    mu1 = df_trueskill[\"mu\"][pair[1]]\n",
    "    \n",
    "    sigma0 = df_trueskill[\"sigma\"][pair[0]]\n",
    "    \n",
    "    sigma1 = df_trueskill[\"sigma\"][pair[1]]\n",
    "    \n",
    "    mudiff = numpy.abs(mu0-mu1)\n",
    "    \n",
    "    sigmadiff = numpy.sqrt(sigma0**2 + sigma1**2)\n",
    "    \n",
    "    left_tail, _ = scipy.stats.norm.interval(0.90, loc=mudiff, scale=sigmadiff)\n",
    "    \n",
    "    if left_tail > 0:\n",
    "        # the difference is significant\n",
    "        trueskill_diff[row, col] = 1\n",
    "        print(pair)"
   ]
  },
  {
   "cell_type": "code",
   "execution_count": 19,
   "metadata": {},
   "outputs": [
    {
     "data": {
      "text/plain": [
       "array([[ 0.,  0.,  0.,  0.,  0.],\n",
       "       [ 0.,  0.,  0.,  0.,  0.],\n",
       "       [ 0.,  0.,  0.,  0.,  0.],\n",
       "       [ 0.,  0.,  0.,  0.,  0.],\n",
       "       [ 0.,  0.,  0.,  0.,  0.]])"
      ]
     },
     "execution_count": 19,
     "metadata": {},
     "output_type": "execute_result"
    }
   ],
   "source": [
    "trueskill_diff"
   ]
  },
  {
   "cell_type": "markdown",
   "metadata": {},
   "source": [
    "After 14 games, there is no statistically significant difference between any player's TrueSkill."
   ]
  },
  {
   "cell_type": "code",
   "execution_count": null,
   "metadata": {
    "collapsed": true
   },
   "outputs": [],
   "source": []
  }
 ],
 "metadata": {
  "kernelspec": {
   "display_name": "Python 3",
   "language": "python",
   "name": "python3"
  },
  "language_info": {
   "codemirror_mode": {
    "name": "ipython",
    "version": 3
   },
   "file_extension": ".py",
   "mimetype": "text/x-python",
   "name": "python",
   "nbconvert_exporter": "python",
   "pygments_lexer": "ipython3",
   "version": "3.6.3"
  }
 },
 "nbformat": 4,
 "nbformat_minor": 2
}
