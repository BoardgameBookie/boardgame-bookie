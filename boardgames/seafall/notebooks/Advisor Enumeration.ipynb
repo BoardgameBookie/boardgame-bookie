{
 "cells": [
  {
   "cell_type": "code",
   "execution_count": 1,
   "metadata": {
    "collapsed": true
   },
   "outputs": [],
   "source": [
    "%matplotlib inline\n",
    "\n",
    "import itertools\n",
    "import matplotlib\n",
    "import matplotlib.pyplot\n",
    "import numpy\n",
    "import os\n",
    "import pandas\n",
    "import scipy.misc\n",
    "import scipy.special\n",
    "import scipy.stats\n",
    "import seaborn"
   ]
  },
  {
   "cell_type": "code",
   "execution_count": 2,
   "metadata": {
    "collapsed": true
   },
   "outputs": [],
   "source": [
    "# colormap for data visualizations\n",
    "cmap = seaborn.cubehelix_palette(n_colors = 20, start = 0.8, rot = 0.75,\n",
    "                                gamma = 0.3, hue = 2.0, dark = 0.005,\n",
    "                                light = 0.95, reverse = True, as_cmap = True)"
   ]
  },
  {
   "cell_type": "markdown",
   "metadata": {},
   "source": [
    "How many different combinations of advisors and retired advisor stickers exist? Is it as straightforward as enumerating the combinations between the number of empty advisor slots and retired advisor stickers? Though this creates an upper limit, does the order of the retired advisor stickers prevent some combinations from happening? The number of players will effect the distribution of stickers at the end of the game. The timing of boxes openning will bias the addition of stickers to earlier advisors. Therefore, in addition to the possible combinations, what is the distribution of retired advisor stickers? I think this last question is best answered through simulation."
   ]
  },
  {
   "cell_type": "markdown",
   "metadata": {},
   "source": [
    "# Enumerating the upper limit of adivsor combinations.\n",
    "A natural starting point would be calculating the number of unique combinations between the advisor deck and the retired advisors."
   ]
  },
  {
   "cell_type": "code",
   "execution_count": 4,
   "metadata": {
    "collapsed": true
   },
   "outputs": [],
   "source": [
    "df_advisors = pandas.read_excel(\"advisors.xlsx\")\n",
    "df_retired = pandas.read_excel(\"retired_advisors.xlsx\")"
   ]
  },
  {
   "cell_type": "code",
   "execution_count": 10,
   "metadata": {},
   "outputs": [
    {
     "name": "stdout",
     "output_type": "stream",
     "text": [
      "The number of empty slots in the advisor deck is 63\n",
      "The number of retired advisor stickers is 42\n"
     ]
    }
   ],
   "source": [
    "sum_empty_slots = numpy.sum(df_advisors[\"empty_slots\"])\n",
    "sum_retired_stickers = len(df_retired)*3 # There are 3 stickers on each retired advisor\n",
    "print(\"The number of empty slots in the advisor deck is\", sum_empty_slots)\n",
    "print(\"The number of retired advisor stickers is\", sum_retired_stickers)"
   ]
  },
  {
   "cell_type": "code",
   "execution_count": 15,
   "metadata": {},
   "outputs": [
    {
     "name": "stdout",
     "output_type": "stream",
     "text": [
      "The unique number of decks is 2.7619435402363024e+16\n"
     ]
    }
   ],
   "source": [
    "number_unique_advisor_decks = scipy.special.comb(sum_empty_slots, sum_retired_stickers)\n",
    "print(\"The unique number of decks is\", number_unique_advisor_decks)"
   ]
  },
  {
   "cell_type": "markdown",
   "metadata": {},
   "source": [
    "There are 63 empty slots across all of the advisors and 42 retired advisor stickers. The number of unique advisor decks that can exist after all retired advisor stickers have been placed onto empty slots is almost 30 quadrillion! However, this is an overestimate of the actual number of unique decks since there are duplicates of most of the retired advisors across the 4 guilds.\n",
    "\n",
    "https://math.stackexchange.com/questions/1902850/efficient-algorithm-to-find-all-unique-combinations-of-set-given-duplicates\n",
    "http://mathforum.org/library/drmath/view/56197.html\n",
    "https://math.stackexchange.com/questions/2131/permutations-with-duplicates\n",
    "https://math.stackexchange.com/questions/114654/permutations-of-subsets-of-a-multiset/\n",
    "https://mathoverflow.net/questions/33273/combinations-of-multisets-with-finite-multiplicities\n",
    "\n",
    "We'll have to calculate the combination of a mutliset to derive the account for duplicated stickers.\n",
    "\n",
    "To help with the math we'll pretend we have 21 null stickers to add to the 42 retired advisor stickers to match the number of empty slots on the advisor cards. Now the problem becomes counting the u"
   ]
  },
  {
   "cell_type": "code",
   "execution_count": 16,
   "metadata": {},
   "outputs": [
    {
     "data": {
      "text/html": [
       "<div>\n",
       "<style scoped>\n",
       "    .dataframe tbody tr th:only-of-type {\n",
       "        vertical-align: middle;\n",
       "    }\n",
       "\n",
       "    .dataframe tbody tr th {\n",
       "        vertical-align: top;\n",
       "    }\n",
       "\n",
       "    .dataframe thead th {\n",
       "        text-align: right;\n",
       "    }\n",
       "</style>\n",
       "<table border=\"1\" class=\"dataframe\">\n",
       "  <thead>\n",
       "    <tr style=\"text-align: right;\">\n",
       "      <th></th>\n",
       "      <th>name</th>\n",
       "      <th>buy_goods</th>\n",
       "      <th>sell_goods</th>\n",
       "      <th>tax</th>\n",
       "      <th>raid</th>\n",
       "      <th>explore</th>\n",
       "      <th>research</th>\n",
       "      <th>upgrade</th>\n",
       "      <th>build</th>\n",
       "      <th>set</th>\n",
       "      <th>stage</th>\n",
       "    </tr>\n",
       "  </thead>\n",
       "  <tbody>\n",
       "    <tr>\n",
       "      <th>0</th>\n",
       "      <td>Retired Adventurer</td>\n",
       "      <td>0</td>\n",
       "      <td>0</td>\n",
       "      <td>0</td>\n",
       "      <td>0</td>\n",
       "      <td>1</td>\n",
       "      <td>0</td>\n",
       "      <td>0</td>\n",
       "      <td>0</td>\n",
       "      <td>starter</td>\n",
       "      <td>1</td>\n",
       "    </tr>\n",
       "    <tr>\n",
       "      <th>1</th>\n",
       "      <td>Retired Adventurer</td>\n",
       "      <td>0</td>\n",
       "      <td>0</td>\n",
       "      <td>0</td>\n",
       "      <td>0</td>\n",
       "      <td>1</td>\n",
       "      <td>0</td>\n",
       "      <td>0</td>\n",
       "      <td>0</td>\n",
       "      <td>starter</td>\n",
       "      <td>1</td>\n",
       "    </tr>\n",
       "    <tr>\n",
       "      <th>2</th>\n",
       "      <td>Retired Pirate</td>\n",
       "      <td>0</td>\n",
       "      <td>0</td>\n",
       "      <td>0</td>\n",
       "      <td>1</td>\n",
       "      <td>0</td>\n",
       "      <td>0</td>\n",
       "      <td>0</td>\n",
       "      <td>0</td>\n",
       "      <td>starter</td>\n",
       "      <td>1</td>\n",
       "    </tr>\n",
       "    <tr>\n",
       "      <th>3</th>\n",
       "      <td>Retired Taxman</td>\n",
       "      <td>0</td>\n",
       "      <td>0</td>\n",
       "      <td>1</td>\n",
       "      <td>0</td>\n",
       "      <td>0</td>\n",
       "      <td>0</td>\n",
       "      <td>0</td>\n",
       "      <td>0</td>\n",
       "      <td>starter</td>\n",
       "      <td>1</td>\n",
       "    </tr>\n",
       "    <tr>\n",
       "      <th>4</th>\n",
       "      <td>Retired Recruiter</td>\n",
       "      <td>0</td>\n",
       "      <td>0</td>\n",
       "      <td>0</td>\n",
       "      <td>0</td>\n",
       "      <td>0</td>\n",
       "      <td>0</td>\n",
       "      <td>1</td>\n",
       "      <td>0</td>\n",
       "      <td>starter</td>\n",
       "      <td>1</td>\n",
       "    </tr>\n",
       "    <tr>\n",
       "      <th>5</th>\n",
       "      <td>Retired Builder</td>\n",
       "      <td>0</td>\n",
       "      <td>0</td>\n",
       "      <td>0</td>\n",
       "      <td>0</td>\n",
       "      <td>0</td>\n",
       "      <td>0</td>\n",
       "      <td>0</td>\n",
       "      <td>1</td>\n",
       "      <td>starter</td>\n",
       "      <td>1</td>\n",
       "    </tr>\n",
       "    <tr>\n",
       "      <th>6</th>\n",
       "      <td>Retired Merchant</td>\n",
       "      <td>1</td>\n",
       "      <td>0</td>\n",
       "      <td>0</td>\n",
       "      <td>0</td>\n",
       "      <td>0</td>\n",
       "      <td>0</td>\n",
       "      <td>0</td>\n",
       "      <td>0</td>\n",
       "      <td>starter</td>\n",
       "      <td>1</td>\n",
       "    </tr>\n",
       "    <tr>\n",
       "      <th>7</th>\n",
       "      <td>Retired Trader</td>\n",
       "      <td>0</td>\n",
       "      <td>1</td>\n",
       "      <td>0</td>\n",
       "      <td>0</td>\n",
       "      <td>0</td>\n",
       "      <td>0</td>\n",
       "      <td>0</td>\n",
       "      <td>0</td>\n",
       "      <td>starter</td>\n",
       "      <td>1</td>\n",
       "    </tr>\n",
       "    <tr>\n",
       "      <th>8</th>\n",
       "      <td>Retired Scoundrel</td>\n",
       "      <td>0</td>\n",
       "      <td>0</td>\n",
       "      <td>0</td>\n",
       "      <td>1</td>\n",
       "      <td>0</td>\n",
       "      <td>0</td>\n",
       "      <td>0</td>\n",
       "      <td>0</td>\n",
       "      <td>rough seas</td>\n",
       "      <td>2</td>\n",
       "    </tr>\n",
       "    <tr>\n",
       "      <th>9</th>\n",
       "      <td>Retired Librarian</td>\n",
       "      <td>0</td>\n",
       "      <td>0</td>\n",
       "      <td>0</td>\n",
       "      <td>0</td>\n",
       "      <td>0</td>\n",
       "      <td>1</td>\n",
       "      <td>0</td>\n",
       "      <td>0</td>\n",
       "      <td>rough seas</td>\n",
       "      <td>2</td>\n",
       "    </tr>\n",
       "    <tr>\n",
       "      <th>10</th>\n",
       "      <td>Retired Captain</td>\n",
       "      <td>0</td>\n",
       "      <td>0</td>\n",
       "      <td>0</td>\n",
       "      <td>0</td>\n",
       "      <td>1</td>\n",
       "      <td>0</td>\n",
       "      <td>0</td>\n",
       "      <td>0</td>\n",
       "      <td>rough seas</td>\n",
       "      <td>2</td>\n",
       "    </tr>\n",
       "    <tr>\n",
       "      <th>11</th>\n",
       "      <td>Retired Builder</td>\n",
       "      <td>0</td>\n",
       "      <td>0</td>\n",
       "      <td>0</td>\n",
       "      <td>0</td>\n",
       "      <td>0</td>\n",
       "      <td>0</td>\n",
       "      <td>0</td>\n",
       "      <td>1</td>\n",
       "      <td>cities</td>\n",
       "      <td>4</td>\n",
       "    </tr>\n",
       "    <tr>\n",
       "      <th>12</th>\n",
       "      <td>Retired Trader</td>\n",
       "      <td>0</td>\n",
       "      <td>1</td>\n",
       "      <td>0</td>\n",
       "      <td>0</td>\n",
       "      <td>0</td>\n",
       "      <td>0</td>\n",
       "      <td>0</td>\n",
       "      <td>0</td>\n",
       "      <td>cities</td>\n",
       "      <td>4</td>\n",
       "    </tr>\n",
       "    <tr>\n",
       "      <th>13</th>\n",
       "      <td>Retired Merchant</td>\n",
       "      <td>1</td>\n",
       "      <td>0</td>\n",
       "      <td>0</td>\n",
       "      <td>0</td>\n",
       "      <td>0</td>\n",
       "      <td>0</td>\n",
       "      <td>0</td>\n",
       "      <td>0</td>\n",
       "      <td>cities</td>\n",
       "      <td>4</td>\n",
       "    </tr>\n",
       "  </tbody>\n",
       "</table>\n",
       "</div>"
      ],
      "text/plain": [
       "                  name  buy_goods  sell_goods  tax  raid  explore  research  \\\n",
       "0   Retired Adventurer          0           0    0     0        1         0   \n",
       "1   Retired Adventurer          0           0    0     0        1         0   \n",
       "2       Retired Pirate          0           0    0     1        0         0   \n",
       "3       Retired Taxman          0           0    1     0        0         0   \n",
       "4    Retired Recruiter          0           0    0     0        0         0   \n",
       "5      Retired Builder          0           0    0     0        0         0   \n",
       "6     Retired Merchant          1           0    0     0        0         0   \n",
       "7       Retired Trader          0           1    0     0        0         0   \n",
       "8    Retired Scoundrel          0           0    0     1        0         0   \n",
       "9    Retired Librarian          0           0    0     0        0         1   \n",
       "10     Retired Captain          0           0    0     0        1         0   \n",
       "11     Retired Builder          0           0    0     0        0         0   \n",
       "12      Retired Trader          0           1    0     0        0         0   \n",
       "13    Retired Merchant          1           0    0     0        0         0   \n",
       "\n",
       "    upgrade  build         set  stage  \n",
       "0         0      0     starter      1  \n",
       "1         0      0     starter      1  \n",
       "2         0      0     starter      1  \n",
       "3         0      0     starter      1  \n",
       "4         1      0     starter      1  \n",
       "5         0      1     starter      1  \n",
       "6         0      0     starter      1  \n",
       "7         0      0     starter      1  \n",
       "8         0      0  rough seas      2  \n",
       "9         0      0  rough seas      2  \n",
       "10        0      0  rough seas      2  \n",
       "11        0      1      cities      4  \n",
       "12        0      0      cities      4  \n",
       "13        0      0      cities      4  "
      ]
     },
     "execution_count": 16,
     "metadata": {},
     "output_type": "execute_result"
    }
   ],
   "source": []
  },
  {
   "cell_type": "code",
   "execution_count": 1,
   "metadata": {},
   "outputs": [
    {
     "data": {
      "text/plain": [
       "21"
      ]
     },
     "execution_count": 1,
     "metadata": {},
     "output_type": "execute_result"
    }
   ],
   "source": [
    "63-42"
   ]
  },
  {
   "cell_type": "code",
   "execution_count": null,
   "metadata": {
    "collapsed": true
   },
   "outputs": [],
   "source": []
  }
 ],
 "metadata": {
  "kernelspec": {
   "display_name": "Python 3",
   "language": "python",
   "name": "python3"
  },
  "language_info": {
   "codemirror_mode": {
    "name": "ipython",
    "version": 3
   },
   "file_extension": ".py",
   "mimetype": "text/x-python",
   "name": "python",
   "nbconvert_exporter": "python",
   "pygments_lexer": "ipython3",
   "version": "3.6.5"
  }
 },
 "nbformat": 4,
 "nbformat_minor": 2
}
