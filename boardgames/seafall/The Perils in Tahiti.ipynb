{
 "cells": [
  {
   "cell_type": "markdown",
   "metadata": {},
   "source": [
    "# The Perils in Tahiti\n",
    "In our game of Seafall the 3rd island is named Tahiti. It has a crucial caveat when attempting endeavors on this island, \"Reroll all minor successes rolled during endeavors here.\" On first thought, this doesn't sound too bad. Minor successes are only a single face on each die, but just how risky is it to step foot on this island?"
   ]
  },
  {
   "cell_type": "code",
   "execution_count": null,
   "metadata": {
    "collapsed": true
   },
   "outputs": [],
   "source": [
    "%matplotlib inline\n",
    "\n",
    "import itertools\n",
    "import matplotlib\n",
    "import matplotlib.pyplot\n",
    "import numpy\n",
    "import pandas\n",
    "import scipy.misc\n",
    "import scipy.special\n",
    "import seaborn"
   ]
  },
  {
   "cell_type": "markdown",
   "metadata": {},
   "source": [
    "# Redefine the odds of rolling blank\n",
    "Without any modifications the chance of rolling a blank is $1/3$ and the chance of rolling a minor success is $1/6$. Now, we must account for the situation where every minor success is re-rolled. Again there is a $1/3$ of rolling a blank, but we might end up rolling again if another minor success turns up. Conceivably, a infinite sequence of rolling could occur if a minor success is repeating rolled over and over again. To calculate the chances of rolling a blank than requires us to write an equation that is infinitely long.\n",
    "\n",
    "$$\\frac{1}{3} + \\frac{1}{6} \\left(  \\frac{1}{3} + \\frac{1}{6} \\left( \\frac{1}{3} + \\frac{1}{6} \\left( \\frac{1}{3} + \\cdots \\right.\\right.\\right.$$\n",
    "\n",
    "Beginning to perform the mulitplication reveals a series,\n",
    "\n",
    "$$\\frac{1}{3} + \\frac{1}{3} \\cdot \\frac{1}{6} + \\frac{1}{3} \\cdot \\frac{1}{6 \\cdot 6} + \\frac{1}{3} \\cdot \\frac{1}{6 \\cdot 6 \\cdot 6} + \\cdots$$\n",
    "\n",
    "Conveniently, this is a geometric series, which converge to a known formula.\n",
    "\n",
    "$$ \\frac{1}{3} \\sum_{k=0}^\\infty \\left(\\frac{1}{6}\\right)^k \\Rightarrow \\frac{1}{3} \\cdot \\frac{1}{1 - \\frac{1}{6}} = 0.4$$\n"
   ]
  },
  {
   "cell_type": "code",
   "execution_count": null,
   "metadata": {
    "collapsed": true
   },
   "outputs": [],
   "source": [
    "p_blank = 0.4\n",
    "\n",
    "def prob_blank(num_blank, total_dice):\n",
    "    if total_dice < num_blank:\n",
    "        p = 0.0\n",
    "    else:\n",
    "        p = (p_blank)**num_blank * \\\n",
    "        (1-p_blank)**(total_dice-num_blank) * \\\n",
    "        scipy.misc.comb(total_dice, total_dice - num_blank)\n",
    "    return p\n",
    "\n",
    "def prob_blank_or_worse(num_blank, total_dice):\n",
    "    if total_dice < num_blank:\n",
    "        p = 0.0\n",
    "    else:\n",
    "        rng_blank = numpy.arange(num_blank, total_dice + 1)\n",
    "        array_blank = [prob_blank(n, total_dice) for n in rng_blank]\n",
    "        p = numpy.sum(array_blank)\n",
    "    return p"
   ]
  },
  {
   "cell_type": "code",
   "execution_count": null,
   "metadata": {
    "collapsed": true
   },
   "outputs": [],
   "source": [
    "row_blank = numpy.arange(1,16) # number of dice showing the blank face\n",
    "col_dice = numpy.arange(1,16) # number of dice in the pool\n",
    "sdo = numpy.zeros((numpy.size(row_blank),numpy.size(col_dice)))\n",
    "prob = [prob_blank_or_worse(*i) for i in itertools.product(row_blank, col_dice)]\n",
    "ind = [tuple(numpy.subtract(i,1)) for i in itertools.product(row_blank, col_dice)]\n",
    "for idx, val in enumerate(ind):\n",
    "    sdo[val] = prob[idx]\n",
    "sdo_dataframe = pandas.DataFrame(data = sdo, index = row_blank, columns = col_dice)\n",
    "sdo_dataframe_stack = sdo_dataframe.stack().reset_index().rename(columns = {\"level_0\" : \"number_blank\", \"level_1\" : \"number_dice_pool\", 0 : \"probability_GTE_to_number_blank\"})\n",
    "sdo_dataframe_stack[\"mask\"] = sdo_dataframe_stack[\"probability_GTE_to_number_blank\"] == 0\n",
    "sdo_mask = sdo_dataframe_stack.pivot(\"number_dice_pool\", \"number_blank\", \"mask\").values\n",
    "sdo_pivot = sdo_dataframe_stack.pivot(\"number_dice_pool\", \"number_blank\", \"probability_GTE_to_number_blank\")"
   ]
  },
  {
   "cell_type": "code",
   "execution_count": null,
   "metadata": {
    "collapsed": false
   },
   "outputs": [],
   "source": [
    "seaborn.set(style = \"white\")\n",
    "seaborn.set_context(\"poster\")\n",
    "matplotlib.pyplot.figure(figsize=(24, 18))\n",
    "cmap = seaborn.cubehelix_palette(n_colors = 6,\n",
    "                                start = 1.5,\n",
    "                                rot = 1.5,\n",
    "                                gamma = 1.5,\n",
    "                                hue = 1.0,\n",
    "                                dark = 0.525,\n",
    "                                light = 0.96,\n",
    "                                reverse = False,\n",
    "                                as_cmap = True)\n",
    "ax = seaborn.heatmap(sdo_pivot, \n",
    "                     annot = True, \n",
    "                     cmap = cmap,\n",
    "                     cbar = False,\n",
    "                     mask = sdo_mask,\n",
    "                     fmt = \".1%\", \n",
    "                     linewidths = 1.5)\n",
    "\n",
    "ax.set_title(\"Ship Damage Probabilty in Tahiti (Island 3):\\n'Probability at least X many blanks given Y sized dice pool'\",\n",
    "            fontsize=32)\n",
    "ax.set_xlabel(\"Number of blanks\", fontsize=32)\n",
    "ax.set_ylabel(\"Size of dice pool\", fontsize=32)\n",
    "\n",
    "\n",
    "fig = ax.get_figure()\n",
    "fig.savefig(\"sdo_15_island3.pdf\")"
   ]
  },
  {
   "cell_type": "code",
   "execution_count": null,
   "metadata": {
    "collapsed": false
   },
   "outputs": [],
   "source": [
    "sdo_dataframe_7 = sdo_dataframe_stack.loc[(sdo_dataframe_stack[\"number_blank\"] < 8) & (sdo_dataframe_stack[\"number_dice_pool\"] < 8)]\n",
    "sdo_mask_7 = sdo_dataframe_7.pivot(\"number_dice_pool\", \"number_blank\", \"mask\").values\n",
    "sdo_pivot_7 = sdo_dataframe_7.pivot(\"number_dice_pool\", \"number_blank\", \"probability_GTE_to_number_blank\")\n",
    "\n",
    "ax2 = seaborn.heatmap(sdo_pivot_7, \n",
    "                     annot = True, \n",
    "                     cmap = cmap,\n",
    "                     cbar = False,\n",
    "                     mask = sdo_mask_7,\n",
    "                     fmt = \".1%\", \n",
    "                     linewidths = 1.5)\n",
    "\n",
    "ax2.set_title(\"Ship Damage Probabilty in Tahiti (Island 3):\\n'Probability at least X many blanks given Y sized dice pool'\",\n",
    "            fontsize=20)\n",
    "ax2.set_xlabel(\"Number of blanks\", fontsize=24)\n",
    "ax2.set_ylabel(\"Size of dice pool\", fontsize=24)\n",
    "\n",
    "fig = ax2.get_figure()\n",
    "fig.savefig(\"sdo_7_island3.pdf\")"
   ]
  },
  {
   "cell_type": "markdown",
   "metadata": {},
   "source": [
    "# At what cost?\n",
    "The increase in probability from $0.\\overline{3}$ to $0.4$ is enough to warrant a second thought before choosing to roll the dice. Some rolls become considerably less favorable. Consider rolling 4 dice and weighing the odds of 2 or more blanks. On a normal island this would happen $40.7\\%$ of the time, but still favors success. On Tahiti the tables turn and the odds become worse than a coin toss, $52.5\\%$."
   ]
  },
  {
   "cell_type": "code",
   "execution_count": null,
   "metadata": {
    "collapsed": true
   },
   "outputs": [],
   "source": []
  }
 ],
 "metadata": {
  "kernelspec": {
   "display_name": "Python 2",
   "language": "python",
   "name": "python2"
  },
  "language_info": {
   "codemirror_mode": {
    "name": "ipython",
    "version": 2
   },
   "file_extension": ".py",
   "mimetype": "text/x-python",
   "name": "python",
   "nbconvert_exporter": "python",
   "pygments_lexer": "ipython2",
   "version": "2.7.13"
  }
 },
 "nbformat": 4,
 "nbformat_minor": 2
}
