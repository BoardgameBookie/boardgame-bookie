{
 "cells": [
  {
   "cell_type": "markdown",
   "metadata": {},
   "source": [
    "# Ship Damage Odds\n",
    "Should I roll the dice? This notebook provides the odds that will help Seafall players make that decision. We'll be using [combinations](https://en.wikipedia.org/wiki/Combination) to do the heavy lifting of the calculations. Dice rolls can be [framed](http://math.stackexchange.com/questions/900672/how-many-combinations-from-rolling-5-identical-dice) as [stars and bars](http://math.stackexchange.com/questions/208377/combination-with-repetitions) problems."
   ]
  },
  {
   "cell_type": "code",
   "execution_count": null,
   "metadata": {
    "collapsed": false
   },
   "outputs": [],
   "source": [
    "%matplotlib inline\n",
    "\n",
    "import matplotlib\n",
    "import matplotlib.pyplot\n",
    "import numpy\n",
    "import pandas\n",
    "import scipy.misc\n",
    "import scipy.special\n",
    "import seaborn"
   ]
  },
  {
   "cell_type": "markdown",
   "metadata": {},
   "source": [
    "## A cursed throw during the prologue\n",
    "I went to explore a region on the first island, my flag ship being supported by the second ship in my fleet. With the Woodsman as my advisor I would have 4 dice to roll where I needed three successes to avoid damage to my ship. I cast my dice and recoiled once they settled on 3 blanks and merely 1 success. I felt this had to have been some rather unlucky outcome. Was I cursed?"
   ]
  },
  {
   "cell_type": "code",
   "execution_count": null,
   "metadata": {
    "collapsed": false
   },
   "outputs": [],
   "source": [
    "# FWIW, total number of unique outcomes from rolling 4, 6-sided dice.\n",
    "scipy.misc.comb(6, 4, repetition=True) # scipy.misc.comb(# of faces, # of dice, repitition=True)\n",
    "# permutation\n",
    "scipy.special.perm(4,2)\n",
    "# combination: asks, \"Given 4 dice, how many instances are there where 2 dice ended up with the same face value.\"\n",
    "scipy.misc.comb(4,2)"
   ]
  },
  {
   "cell_type": "code",
   "execution_count": null,
   "metadata": {
    "collapsed": false
   },
   "outputs": [],
   "source": [
    "cursed_probability = (1.0/3)**3 * (2.0/3) * scipy.misc.comb(4,1) + (1.0/3)**4\n",
    "print cursed_probability"
   ]
  },
  {
   "cell_type": "code",
   "execution_count": null,
   "metadata": {
    "collapsed": false
   },
   "outputs": [],
   "source": [
    "def prob_blank(num_blank, total_dice):\n",
    "    if total_dice < num_blank:\n",
    "        p = 0.0\n",
    "    else:\n",
    "        p = (1.0/3)**num_blank * \\\n",
    "        (2.0/3)**(total_dice-num_blank) * \\\n",
    "        scipy.misc.comb(total_dice, total_dice - num_blank)\n",
    "    return p"
   ]
  },
  {
   "cell_type": "code",
   "execution_count": null,
   "metadata": {
    "collapsed": false
   },
   "outputs": [],
   "source": [
    "cursed_probability = prob_blank(3,4) + prob_blank(4,4)\n",
    "print cursed_probability"
   ]
  },
  {
   "cell_type": "code",
   "execution_count": null,
   "metadata": {
    "collapsed": true
   },
   "outputs": [],
   "source": [
    "def prob_blank_or_worse(num_blank, total_dice):\n",
    "    if total_dice < num_blank:\n",
    "        p = 0.0\n",
    "    else:\n",
    "        rng_blank = numpy.arange(num_blank, total_dice + 1)\n",
    "        array_blank = [prob_blank(n, total_dice) for n in rng_blank]\n",
    "        p = numpy.sum(array_blank)\n",
    "    return p"
   ]
  },
  {
   "cell_type": "code",
   "execution_count": null,
   "metadata": {
    "collapsed": false
   },
   "outputs": [],
   "source": [
    "cursed_probability = prob_blank_or_worse(1,4)\n",
    "print cursed_probability"
   ]
  },
  {
   "cell_type": "markdown",
   "metadata": {
    "collapsed": true
   },
   "source": [
    "# SDO matrix\n",
    "There are 15 custom dice within Seafall, so a matrix should be large enough to assess the situation where all 15 are rolled. Since the early game does not use near this many dice, several visualizations will be created."
   ]
  },
  {
   "cell_type": "code",
   "execution_count": null,
   "metadata": {
    "collapsed": false
   },
   "outputs": [],
   "source": [
    "import itertools\n",
    "row_blank = numpy.arange(1,16) # number of dice showing the blank face\n",
    "col_dice = numpy.arange(1,16) # number of dice in the pool\n",
    "sdo = numpy.zeros((numpy.size(row_blank),numpy.size(col_dice)))\n",
    "prob = [prob_blank_or_worse(*i) for i in itertools.product(row_blank, col_dice)]\n",
    "ind = [tuple(numpy.subtract(i,1)) for i in itertools.product(row_blank, col_dice)]\n",
    "for idx, val in enumerate(ind):\n",
    "    sdo[val] = prob[idx]"
   ]
  },
  {
   "cell_type": "code",
   "execution_count": null,
   "metadata": {
    "collapsed": false
   },
   "outputs": [],
   "source": [
    "# http://stackoverflow.com/questions/41474284/how-to-convert-a-matrix-into-column-array-with-pandas-python\n",
    "sdo_dataframe = pandas.DataFrame(data = sdo, index = row_blank, columns = col_dice)\n",
    "sdo_dataframe_stack = sdo_dataframe.stack().reset_index().rename(columns = {\"level_0\" : \"number_blank\", \"level_1\" : \"number_dice_pool\", 0 : \"probability_GTE_to_number_blank\"})"
   ]
  },
  {
   "cell_type": "code",
   "execution_count": null,
   "metadata": {
    "collapsed": false
   },
   "outputs": [],
   "source": [
    "sdo_dataframe_stack[\"mask\"] = sdo_dataframe_stack[\"probability_GTE_to_number_blank\"] == 0\n",
    "sdo_mask = sdo_dataframe_stack.pivot(\"number_dice_pool\", \"number_blank\", \"mask\").values"
   ]
  },
  {
   "cell_type": "code",
   "execution_count": null,
   "metadata": {
    "collapsed": false
   },
   "outputs": [],
   "source": [
    "sdo_pivot = sdo_dataframe_stack.pivot(\"number_dice_pool\", \"number_blank\", \"probability_GTE_to_number_blank\")"
   ]
  },
  {
   "cell_type": "code",
   "execution_count": null,
   "metadata": {
    "collapsed": false
   },
   "outputs": [],
   "source": [
    "seaborn.set(style = \"white\")\n",
    "seaborn.set_context(\"poster\")\n",
    "matplotlib.pyplot.figure(figsize=(24, 18))\n",
    "cmap = seaborn.cubehelix_palette(n_colors = 6,\n",
    "                                start = 1.5,\n",
    "                                rot = 1.5,\n",
    "                                gamma = 1.5,\n",
    "                                hue = 1.0,\n",
    "                                dark = 0.525,\n",
    "                                light = 0.96,\n",
    "                                reverse = False,\n",
    "                                as_cmap = True)\n",
    "ax = seaborn.heatmap(sdo_pivot, \n",
    "                     annot = True, \n",
    "                     cmap = cmap,\n",
    "                     cbar = False,\n",
    "                     mask = sdo_mask,\n",
    "                     fmt = \".1%\", \n",
    "                     linewidths = 1.5)\n",
    "\n",
    "ax.set_title(\"Ship Damage Probabilty:\\n'Probability at least X many blanks given Y sized dice pool', or\\n'Probability of greater than or equal to the number of blanks for a given dice pool'\",\n",
    "            fontsize=32)\n",
    "ax.set_xlabel(\"Number of blanks\", fontsize=32)\n",
    "ax.set_ylabel(\"Size of dice pool\", fontsize=32)\n",
    "\n",
    "\n",
    "fig = ax.get_figure()\n",
    "fig.savefig(\"sdo.pdf\")"
   ]
  },
  {
   "cell_type": "markdown",
   "metadata": {
    "collapsed": true
   },
   "source": [
    "# A daring raid upon my province\n",
    "The end of the 2nd game was nigh. I had 10 glory and was primed to secure a 2 glory treasure and victory on my next turn. I had the most glory, but it was a close game. Mike and Joe both had 9 glory. I had accumulated two treasures to this point and Mike eyed my vault enviously; I had a target on my back. Unfortunately, my ships were both at sea, so my home port was undefended. Mike took advantage and attacked! He had 6 dice to roll and needed 5 successes to raid my treasure room. I had foreseen this possibility and despite the threat I still liked my chances (even though I held out hope Mike wouldn't attack at all). Here is how the numbers break down:"
   ]
  },
  {
   "cell_type": "code",
   "execution_count": null,
   "metadata": {
    "collapsed": true
   },
   "outputs": [],
   "source": []
  }
 ],
 "metadata": {
  "kernelspec": {
   "display_name": "Python 2",
   "language": "python",
   "name": "python2"
  },
  "language_info": {
   "codemirror_mode": {
    "name": "ipython",
    "version": 2
   },
   "file_extension": ".py",
   "mimetype": "text/x-python",
   "name": "python",
   "nbconvert_exporter": "python",
   "pygments_lexer": "ipython2",
   "version": "2.7.13"
  }
 },
 "nbformat": 4,
 "nbformat_minor": 2
}
