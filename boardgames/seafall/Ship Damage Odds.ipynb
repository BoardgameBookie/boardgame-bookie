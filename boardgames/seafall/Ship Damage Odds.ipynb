{
 "cells": [
  {
   "cell_type": "markdown",
   "metadata": {},
   "source": [
    "# Ship Damage Odds\n",
    "Should I roll the dice? This notebook provides the odds that will help Seafall players make that decision. We'll be using [combinations](https://en.wikipedia.org/wiki/Combination) to do the heavy lifting of the calculations. Dice rolls can be [framed](http://math.stackexchange.com/questions/900672/how-many-combinations-from-rolling-5-identical-dice) as [stars and bars](http://math.stackexchange.com/questions/208377/combination-with-repetitions) problems."
   ]
  },
  {
   "cell_type": "code",
   "execution_count": null,
   "metadata": {
    "collapsed": false
   },
   "outputs": [],
   "source": [
    "import scipy.misc\n",
    "import scipy.special\n",
    "import numpy\n",
    "import plotly\n",
    "plotly.__version__"
   ]
  },
  {
   "cell_type": "markdown",
   "metadata": {},
   "source": [
    "## A cursed throw during the prologue\n",
    "I went to explore a region on the first island, my flag ship being supported by the second ship in my fleet. With the Woodsman as my advisor I would have 4 dice to roll where I needed three successes to avoid damage to my ship. I cast my dice and recoiled once they settled on 3 misses and merely 1 success. I felt this had to have been some rather unlucky outcome. Was I cursed?"
   ]
  },
  {
   "cell_type": "code",
   "execution_count": null,
   "metadata": {
    "collapsed": false
   },
   "outputs": [],
   "source": [
    "# FWIW, total number of unique outcomes from rolling 4, 6-sided dice.\n",
    "scipy.misc.comb(6, 4, repetition=True) # scipy.misc.comb(# of faces, # of dice, repitition=True)\n",
    "# permutation\n",
    "scipy.special.perm(4,2)\n",
    "# combination: asks, \"Given 4 dice, which 2 ended up with a given face value.\"\n",
    "scipy.misc.comb(4,2)"
   ]
  },
  {
   "cell_type": "code",
   "execution_count": null,
   "metadata": {
    "collapsed": false
   },
   "outputs": [],
   "source": [
    "cursed_probability = (1.0/3)**3 * (2.0/3) * scipy.misc.comb(4,1) + (1.0/3)**4\n",
    "print cursed_probability"
   ]
  },
  {
   "cell_type": "code",
   "execution_count": null,
   "metadata": {
    "collapsed": false
   },
   "outputs": [],
   "source": [
    "def prob_miss(num_miss, total_dice):\n",
    "    if total_dice < num_miss:\n",
    "        p = 0.0\n",
    "    else:\n",
    "        p = (1.0/3)**num_miss * \\\n",
    "        (2.0/3)**(total_dice-num_miss) * \\\n",
    "        scipy.misc.comb(total_dice, total_dice - num_miss)\n",
    "    return p"
   ]
  },
  {
   "cell_type": "code",
   "execution_count": null,
   "metadata": {
    "collapsed": false
   },
   "outputs": [],
   "source": [
    "cursed_probability = prob_miss(3,4) + prob_miss(4,4)\n",
    "print cursed_probability"
   ]
  },
  {
   "cell_type": "code",
   "execution_count": null,
   "metadata": {
    "collapsed": true
   },
   "outputs": [],
   "source": [
    "def prob_miss_or_worse(num_miss, total_dice):\n",
    "    if total_dice < num_miss:\n",
    "        p = 0.0\n",
    "    else:\n",
    "        rng_miss = numpy.arange(num_miss, total_dice + 1)\n",
    "        array_miss = [prob_miss(n, total_dice) for n in rng_miss]\n",
    "        p = numpy.sum(array_miss)\n",
    "    return p"
   ]
  },
  {
   "cell_type": "code",
   "execution_count": null,
   "metadata": {
    "collapsed": false
   },
   "outputs": [],
   "source": [
    "cursed_probability = prob_miss_or_worse(1,4)\n",
    "print cursed_probability"
   ]
  },
  {
   "cell_type": "markdown",
   "metadata": {
    "collapsed": true
   },
   "source": [
    "# SDO matrix\n",
    "There are 15 custom dice within Seafall, so a matrix should be large enough to assess the situation where all 15 are rolled. Since the early game does not use near this many dice, two matrices will be created: An early game and a late game matrix, 8 dice and 15 dice respectively"
   ]
  },
  {
   "cell_type": "code",
   "execution_count": null,
   "metadata": {
    "collapsed": false
   },
   "outputs": [],
   "source": [
    "import itertools\n",
    "row8 = numpy.arange(1,9) # number of misses\n",
    "col8 = numpy.arange(1,9) # number of dice\n",
    "sdo8 = numpy.zeros((numpy.size(row8),numpy.size(row8)))\n",
    "prob = [prob_miss_or_worse(*i) for i in itertools.product(row8, col8)]\n",
    "ind = [tuple(numpy.subtract(i,1)) for i in itertools.product(row8, col8)]\n",
    "for idx, val in enumerate(ind):\n",
    "    sdo8[val] = prob[idx]"
   ]
  },
  {
   "cell_type": "code",
   "execution_count": null,
   "metadata": {
    "collapsed": false
   },
   "outputs": [],
   "source": [
    "# https://plot.ly/python/reference/#heatmap-colorscale\n",
    "# https://plot.ly/python/heatmaps/\n",
    "\n",
    "from plotly.offline import download_plotlyjs, init_notebook_mode, plot, iplot\n",
    "init_notebook_mode(connected=True)\n",
    "import plotly.plotly as py\n",
    "import plotly.graph_objs as go\n",
    "\n",
    "x = ['A', 'B', 'C', 'D', 'E']\n",
    "y = ['W', 'X', 'Y', 'Z']\n",
    "\n",
    "#       x0    x1    x2    x3    x4\n",
    "z = [[0.00, 0.00, 0.75, 0.75, 0.00],  # y0\n",
    "     [0.00, 0.00, 0.75, 0.75, 0.00],  # y1\n",
    "     [0.75, 0.75, 0.75, 0.75, 0.75],  # y2\n",
    "     [0.00, 0.00, 0.00, 0.75, 0.00]]  # y3\n",
    "\n",
    "annotations = []\n",
    "for n, row in enumerate(sdo8):\n",
    "    for m, val in enumerate(row):\n",
    "        var = sdo8[n][m]\n",
    "        annotations.append(\n",
    "            dict(\n",
    "                text=str(val),\n",
    "                x=col8[m], y=row8[n],\n",
    "                xref='x1', yref='y1',\n",
    "                font=dict(color='white' if val > 0.5 else 'black'),\n",
    "                showarrow=False)\n",
    "            )\n",
    "\n",
    "colorscale = [[0, '#3D9970'], [1, '#001f3f']]  # custom colorscale\n",
    "trace = go.Heatmap(x=col8, y=row8, z=sdo8, colorscale=colorscale, showscale=False)\n",
    "\n",
    "fig = go.Figure(data=[trace])\n",
    "fig['layout'].update(\n",
    "    title=\"Annotated Heatmap\",\n",
    "    annotations=annotations,\n",
    "    xaxis=dict(ticks='', side='top'),\n",
    "    # ticksuffix is a workaround to add a bit of padding\n",
    "    yaxis=dict(ticks='', ticksuffix='  '),\n",
    "    width=700,\n",
    "    height=700,\n",
    "    autosize=False\n",
    ")\n",
    "plotly.offline.iplot(fig, filename='Annotated Heatmap')"
   ]
  },
  {
   "cell_type": "markdown",
   "metadata": {
    "collapsed": true
   },
   "source": [
    "# A daring raid upon my province\n",
    "The end of the 2nd game was nigh. I had 10 glory and was primed to secure a 2 glory treasure and victory on my next turn. I had the most glory, but it was a close game. Mike and Joe both had 9 glory. I had accumulated two treasures to this point and Mike eyed my vault enviously; I had a target on my back. Unfortunately, my ships were both at sea, so my home port was undefended. Mike took advantage and attacked! He had 6 dice to roll and needed 5 successes to raid my treasure room. I had foreseen this possibility and despite the threat I still liked my chances. Here is how the numbers break down:"
   ]
  },
  {
   "cell_type": "code",
   "execution_count": null,
   "metadata": {
    "collapsed": true
   },
   "outputs": [],
   "source": []
  }
 ],
 "metadata": {
  "kernelspec": {
   "display_name": "Python 2",
   "language": "python",
   "name": "python2"
  },
  "language_info": {
   "codemirror_mode": {
    "name": "ipython",
    "version": 2
   },
   "file_extension": ".py",
   "mimetype": "text/x-python",
   "name": "python",
   "nbconvert_exporter": "python",
   "pygments_lexer": "ipython2",
   "version": "2.7.13"
  }
 },
 "nbformat": 4,
 "nbformat_minor": 2
}
