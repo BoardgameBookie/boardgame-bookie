{
 "cells": [
  {
   "cell_type": "markdown",
   "metadata": {},
   "source": [
    "# Event Card Bonus\n",
    "There are event cards that increase odds that an endeavor will be successful. For the \"plus 1\" event, major success count as two successes. Great! We'll need to account for two outcomes in each combination: major successes and blanks. The formula for computing these odds is a bit trickier since a major success will cancel out a blank roll. Therefore, a simulation will be used to sample the probability space and be used as a sanity check to verify the formula."
   ]
  },
  {
   "cell_type": "code",
   "execution_count": null,
   "metadata": {
    "collapsed": false
   },
   "outputs": [],
   "source": [
    "%matplotlib inline\n",
    "\n",
    "import itertools\n",
    "import matplotlib\n",
    "import matplotlib.pyplot\n",
    "import numpy\n",
    "import pandas\n",
    "import scipy.misc\n",
    "import scipy.special\n",
    "import scipy.stats\n",
    "import seaborn"
   ]
  },
  {
   "cell_type": "markdown",
   "metadata": {},
   "source": [
    "# The simulation\n"
   ]
  },
  {
   "cell_type": "code",
   "execution_count": null,
   "metadata": {
    "collapsed": true
   },
   "outputs": [],
   "source": [
    "p_blank = 1.0/3\n",
    "p_major = 1.0/6\n",
    "\n",
    "def simulate_roll(total_dice):\n",
    "    x = numpy.random.uniform(size=total_dice)\n",
    "    conds = [x <= p_blank, (x > p_blank) & (x <= p_blank + p_major), (x > p_blank + p_major)]\n",
    "    # each blank counts as 1, a major success counts as -1, and a regular success counts as 0\n",
    "    roll_array = numpy.piecewise(x, conds, [1, -1, 0])\n",
    "    return numpy.sum(roll_array)\n",
    "\n",
    "def blank_roll_simulator(total_dice, n):\n",
    "    sim_list = [simulate_roll(total_dice) for i in range(n)]\n",
    "    return numpy.array(sim_list)\n",
    "    #return {\"num_blank\" : num_blank_array, \"p_blank\" : p_blank_array}"
   ]
  },
  {
   "cell_type": "code",
   "execution_count": null,
   "metadata": {
    "collapsed": false
   },
   "outputs": [],
   "source": [
    "n = 10000\n",
    "blank_count_list = [blank_roll_simulator(i, n) for i in numpy.arange(1,16)]\n",
    "for i, array in enumerate(blank_count_list):\n",
    "    array[array < 0] = 0\n",
    "    blank_count_list[i] = array\n",
    "blank_count_itemfreq = [scipy.stats.itemfreq(a) for a in blank_count_list]"
   ]
  },
  {
   "cell_type": "code",
   "execution_count": null,
   "metadata": {
    "collapsed": false
   },
   "outputs": [],
   "source": [
    "# sdo_sim will give the probability of a specific instance occuring.\n",
    "# the rows are the size of the dice pool\n",
    "# the columns are the specific number of blanks after accounting for major successes\n",
    "sdo_sim = numpy.zeros((15,16))\n",
    "for i, array in enumerate(blank_count_itemfreq):\n",
    "    for j in array:\n",
    "        sdo_sim[i, j[0].astype(int)] = j[1]/n\n",
    "        \n"
   ]
  },
  {
   "cell_type": "code",
   "execution_count": null,
   "metadata": {
    "collapsed": false
   },
   "outputs": [],
   "source": [
    "row_blank = numpy.arange(1,16) # number of dice showing the blank face\n",
    "col_dice = numpy.arange(0,16) # number of dice in the pool\n",
    "sdo_sim_dataframe = pandas.DataFrame(data = sdo_sim, index = row_blank, columns = col_dice)\n",
    "sdo_sim_dataframe_stack = sdo_sim_dataframe.stack().reset_index().rename(columns = {\"level_0\" : \"number_blank\", \"level_1\" : \"number_dice_pool\", 0 : \"probability_number_blank\"})\n",
    "sdo_sim_mask = numpy.triu(numpy.ones((15,16)), 2)\n",
    "sdo_sim_pivot = sdo_sim_dataframe_stack.pivot(\"number_blank\", \"number_dice_pool\", \"probability_number_blank\")"
   ]
  },
  {
   "cell_type": "code",
   "execution_count": null,
   "metadata": {
    "collapsed": false
   },
   "outputs": [],
   "source": [
    "seaborn.set(style = \"white\")\n",
    "seaborn.set_context(\"poster\")\n",
    "matplotlib.pyplot.figure(figsize=(24, 18))\n",
    "cmap = seaborn.cubehelix_palette(n_colors = 6,\n",
    "                                start = 1.5,\n",
    "                                rot = 1.5,\n",
    "                                gamma = 1.5,\n",
    "                                hue = 1.0,\n",
    "                                dark = 0.525,\n",
    "                                light = 0.96,\n",
    "                                reverse = False,\n",
    "                                as_cmap = True)\n",
    "ax = seaborn.heatmap(sdo_sim_pivot, \n",
    "                     annot = True, \n",
    "                     cmap = cmap,\n",
    "                     cbar = False,\n",
    "                     mask = sdo_sim_mask,\n",
    "                     annot_kws = {\"weight\" : \"extra bold\"},\n",
    "                     fmt = \".1%\", \n",
    "                     linewidths = 2,\n",
    "                     vmin=0.0, \n",
    "                     vmax=1.0)\n",
    "\n",
    "ax.set_title(\"Ship Damage Probabilty for Event Card Bonus (plus 1, simulation):\\n'Probability of exactly X many blanks given Y sized dice pool'\",\n",
    "            fontsize=32)\n",
    "ax.set_xlabel(\"Number of blanks\", fontsize=32)\n",
    "ax.set_ylabel(\"Size of dice pool\", fontsize=32)\n",
    "\n",
    "\n",
    "fig = ax.get_figure()\n",
    "fig.savefig(\"sdo_sim_15_plus1.pdf\")"
   ]
  },
  {
   "cell_type": "code",
   "execution_count": null,
   "metadata": {
    "collapsed": false
   },
   "outputs": [],
   "source": [
    "# for the greater than or equal probabilites, sum along the rows\n",
    "sdo_sim_gte = numpy.zeros((15,15))\n",
    "\n",
    "for (i, j), _ in numpy.ndenumerate(sdo_sim_gte):\n",
    "    sdo_sim_gte[i, j] = numpy.sum(sdo_sim[i, j+1:])\n"
   ]
  },
  {
   "cell_type": "code",
   "execution_count": null,
   "metadata": {
    "collapsed": false
   },
   "outputs": [],
   "source": [
    "row_blank = numpy.arange(1,16) # number of dice showing the blank face\n",
    "col_dice = numpy.arange(1,16) # number of dice in the pool\n",
    "sdo_sim_gte_dataframe = pandas.DataFrame(data = sdo_sim_gte, index = row_blank, columns = col_dice)\n",
    "sdo_sim_gte_dataframe_stack = sdo_sim_gte_dataframe.stack().reset_index().rename(columns = {\"level_0\" : \"number_blank\", \"level_1\" : \"number_dice_pool\", 0 : \"probability_GTE_to_number_blank\"})\n",
    "sdo_sim_gte_mask = numpy.triu(numpy.ones((15,15)), 1)\n",
    "sdo_sim_gte_pivot = sdo_sim_gte_dataframe_stack.pivot(\"number_blank\", \"number_dice_pool\", \"probability_GTE_to_number_blank\")"
   ]
  },
  {
   "cell_type": "code",
   "execution_count": null,
   "metadata": {
    "collapsed": false
   },
   "outputs": [],
   "source": [
    "seaborn.set(style = \"white\")\n",
    "seaborn.set_context(\"poster\")\n",
    "matplotlib.pyplot.figure(figsize=(24, 18))\n",
    "cmap = seaborn.cubehelix_palette(n_colors = 6,\n",
    "                                start = 1.5,\n",
    "                                rot = 1.5,\n",
    "                                gamma = 1.5,\n",
    "                                hue = 1.0,\n",
    "                                dark = 0.525,\n",
    "                                light = 0.96,\n",
    "                                reverse = False,\n",
    "                                as_cmap = True)\n",
    "ax = seaborn.heatmap(sdo_sim_gte_pivot, \n",
    "                     annot = True, \n",
    "                     cmap = cmap,\n",
    "                     cbar = False,\n",
    "                     mask = sdo_sim_gte_mask,\n",
    "                     annot_kws = {\"weight\" : \"extra bold\"},\n",
    "                     fmt = \".1%\", \n",
    "                     linewidths = 2,\n",
    "                     vmin=0.0, \n",
    "                     vmax=1.0)\n",
    "\n",
    "ax.set_title(\"Ship Damage Probabilty for Event Card Bonus (plus 1, simulation):\\n'Probability at least X many blanks given Y sized dice pool'\",\n",
    "            fontsize=32)\n",
    "ax.set_xlabel(\"Number of blanks\", fontsize=32)\n",
    "ax.set_ylabel(\"Size of dice pool\", fontsize=32)\n",
    "\n",
    "\n",
    "fig = ax.get_figure()\n",
    "fig.savefig(\"sdo_gte_sim_15_plus1.pdf\")"
   ]
  },
  {
   "cell_type": "markdown",
   "metadata": {},
   "source": [
    "# The formula\n",
    "The odds for major successes a $1/6$. The key to calculating the number of outcomes is the [Multinomial Coefficient](https://en.wikipedia.org/wiki/Multinomial_theorem). "
   ]
  },
  {
   "cell_type": "code",
   "execution_count": null,
   "metadata": {
    "collapsed": true
   },
   "outputs": [],
   "source": [
    "p_blank = 1.0/3\n",
    "p_major = 1.0/6\n",
    "\n",
    "def prob_blank_and_major(num_blank, num_major, total_dice):\n",
    "    if num_blank + num_major > total_dice:\n",
    "        p = 0.0\n",
    "    else:    \n",
    "        # https://en.wikipedia.org/wiki/Multiset#Counting_multisets\n",
    "        p = (p_blank)**num_blank * \\\n",
    "        (p_major)**num_major * \\\n",
    "        (1-p_blank-p_major)**(total_dice-num_blank-num_major) * \\\n",
    "        scipy.misc.factorial(total_dice) / \\\n",
    "        (scipy.misc.factorial(num_blank) * \\\n",
    "         scipy.misc.factorial(num_major) * \\\n",
    "         scipy.misc.factorial(total_dice - num_blank - num_major)) \n",
    "    return p\n",
    "\n",
    "def prob_blank(num_blank, total_dice):\n",
    "    if total_dice < num_blank:\n",
    "        p = 0.0\n",
    "    else:\n",
    "        rng_blank = numpy.arange(num_blank, total_dice + 1)\n",
    "        array_blank_and_major = [prob_blank_and_major(i, i-num_blank, total_dice) for i in numpy.arange(num_blank, 1 + numpy.floor((total_dice + num_blank)/2))]\n",
    "        p = numpy.sum(array_blank_and_major)\n",
    "    return p \n",
    "\n",
    "def prob_blank_or_worse(num_blank, total_dice):\n",
    "    if total_dice < num_blank:\n",
    "        p = 0.0\n",
    "    else:\n",
    "        rng_blank = numpy.arange(num_blank, total_dice + 1)\n",
    "        array_blank = [prob_blank(i, total_dice) for i in rng_blank]\n",
    "        p = numpy.sum(array_blank)\n",
    "    return p"
   ]
  },
  {
   "cell_type": "code",
   "execution_count": null,
   "metadata": {
    "collapsed": false
   },
   "outputs": [],
   "source": [
    "row_blank = numpy.arange(1,16) # number of dice showing the blank face\n",
    "col_dice = numpy.arange(1,16) # number of dice in the pool\n",
    "sdo = numpy.zeros((numpy.size(row_blank),numpy.size(col_dice)))\n",
    "prob = [prob_blank_or_worse(*i) for i in itertools.product(row_blank, col_dice)]\n",
    "ind = [tuple(numpy.subtract(i,1)) for i in itertools.product(row_blank, col_dice)]\n",
    "for idx, val in enumerate(ind):\n",
    "    sdo[val] = prob[idx]\n",
    "sdo_dataframe = pandas.DataFrame(data = sdo, index = row_blank, columns = col_dice)\n",
    "sdo_dataframe_stack = sdo_dataframe.stack().reset_index().rename(columns = {\"level_0\" : \"number_blank\", \"level_1\" : \"number_dice_pool\", 0 : \"probability_GTE_to_number_blank\"})\n",
    "sdo_mask = numpy.triu(numpy.ones((15,15)), 1)\n",
    "sdo_pivot = sdo_dataframe_stack.pivot(\"number_dice_pool\", \"number_blank\", \"probability_GTE_to_number_blank\")"
   ]
  },
  {
   "cell_type": "code",
   "execution_count": null,
   "metadata": {
    "collapsed": false,
    "scrolled": true
   },
   "outputs": [],
   "source": [
    "seaborn.set(style = \"white\")\n",
    "seaborn.set_context(\"poster\")\n",
    "matplotlib.pyplot.figure(figsize=(24, 18))\n",
    "cmap = seaborn.cubehelix_palette(n_colors = 6,\n",
    "                                start = 1.5,\n",
    "                                rot = 1.5,\n",
    "                                gamma = 1.5,\n",
    "                                hue = 1.0,\n",
    "                                dark = 0.525,\n",
    "                                light = 0.96,\n",
    "                                reverse = False,\n",
    "                                as_cmap = True)\n",
    "ax = seaborn.heatmap(sdo_pivot, \n",
    "                     annot = True, \n",
    "                     cmap = cmap,\n",
    "                     cbar = False,\n",
    "                     mask = sdo_mask,\n",
    "                     annot_kws = {\"weight\" : \"extra bold\"},\n",
    "                     fmt = \".1%\", \n",
    "                     linewidths = 2,\n",
    "                     vmin=0.0, \n",
    "                     vmax=1.0)\n",
    "\n",
    "ax.set_title(\"Ship Damage Probabilty for Event Card Bonus (plus 1):\\n'Probability at least X many blanks given Y sized dice pool'\",\n",
    "            fontsize=32)\n",
    "ax.set_xlabel(\"Number of blanks\", fontsize=32)\n",
    "ax.set_ylabel(\"Size of dice pool\", fontsize=32)\n",
    "\n",
    "\n",
    "fig = ax.get_figure()\n",
    "fig.savefig(\"sdo_15_plus1.pdf\")"
   ]
  },
  {
   "cell_type": "code",
   "execution_count": null,
   "metadata": {
    "collapsed": false
   },
   "outputs": [],
   "source": [
    "sdo_dataframe_7 = sdo_dataframe_stack.loc[(sdo_dataframe_stack[\"number_blank\"] < 8) & (sdo_dataframe_stack[\"number_dice_pool\"] < 8)]\n",
    "sdo_mask_7 = numpy.triu(numpy.ones((7,7)), 1)\n",
    "sdo_pivot_7 = sdo_dataframe_7.pivot(\"number_dice_pool\", \"number_blank\", \"probability_GTE_to_number_blank\")\n",
    "\n",
    "ax2 = seaborn.heatmap(sdo_pivot_7, \n",
    "                     annot = True, \n",
    "                     cmap = cmap,\n",
    "                     cbar = False,\n",
    "                     mask = sdo_mask_7,\n",
    "                     annot_kws = {\"weight\" : \"extra bold\"},\n",
    "                     fmt = \".1%\", \n",
    "                     linewidths = 1.5,\n",
    "                     vmin=0.0, \n",
    "                     vmax=1.0)\n",
    "\n",
    "ax2.set_title(\"Ship Damage Probabilty:\\n'Probability at least X many blanks given Y sized dice pool', or\\n'Probability of greater than or equal to the number of blanks for a given dice pool'\",\n",
    "            fontsize=20)\n",
    "ax2.set_xlabel(\"Number of blanks\", fontsize=24)\n",
    "ax2.set_ylabel(\"Size of dice pool\", fontsize=24)\n",
    "\n",
    "fig = ax2.get_figure()\n",
    "fig.savefig(\"sdo_7_plus1.pdf\")"
   ]
  },
  {
   "cell_type": "code",
   "execution_count": null,
   "metadata": {
    "collapsed": true
   },
   "outputs": [],
   "source": [
    "p_major = 1.0/6\n",
    "\n",
    "def prob_major(num_major, total_dice):\n",
    "    if total_dice < num_major:\n",
    "        p = 0.0\n",
    "    else:\n",
    "        p = (p_major)**num_major * \\\n",
    "        (1-p_major)**(total_dice-num_major) * \\\n",
    "        scipy.misc.comb(total_dice, total_dice - num_major)\n",
    "    return p\n",
    "\n",
    "def prob_major_or_better(num_major, total_dice):\n",
    "    if total_dice < num_major:\n",
    "        p = 0.0\n",
    "    else:\n",
    "        rng_major = numpy.arange(num_major, total_dice + 1)\n",
    "        array_major = [prob_major(n, total_dice) for n in rng_major]\n",
    "        p = numpy.sum(array_major)\n",
    "    return p"
   ]
  },
  {
   "cell_type": "code",
   "execution_count": null,
   "metadata": {
    "collapsed": true
   },
   "outputs": [],
   "source": [
    "row_major = numpy.arange(1,16) # number of dice showing the major success face\n",
    "col_dice = numpy.arange(1,16) # number of dice in the pool\n",
    "sdo_major = numpy.zeros((numpy.size(row_major),numpy.size(col_dice)))\n",
    "prob = [prob_major_or_better(*i) for i in itertools.product(row_major, col_dice)]\n",
    "ind = [tuple(numpy.subtract(i,1)) for i in itertools.product(row_major, col_dice)]\n",
    "for idx, val in enumerate(ind):\n",
    "    sdo_major[val] = prob[idx]\n",
    "sdo_major_dataframe = pandas.DataFrame(data = sdo_major, index = row_major, columns = col_dice)\n",
    "sdo_major_dataframe_stack = sdo_major_dataframe.stack().reset_index().rename(columns = {\"level_0\" : \"number_major\", \"level_1\" : \"number_dice_pool\", 0 : \"probability_GTE_to_number_major\"})\n",
    "sdo_major_mask = numpy.triu(numpy.ones((15,15)), 1)\n",
    "sdo_major_pivot = sdo_major_dataframe_stack.pivot(\"number_dice_pool\", \"number_major\", \"probability_GTE_to_number_major\")"
   ]
  },
  {
   "cell_type": "code",
   "execution_count": null,
   "metadata": {
    "collapsed": false
   },
   "outputs": [],
   "source": [
    "seaborn.set(style = \"white\")\n",
    "seaborn.set_context(\"poster\")\n",
    "matplotlib.pyplot.figure(figsize=(24, 18))\n",
    "cmap = seaborn.cubehelix_palette(n_colors = 6,\n",
    "                                start = 1.5,\n",
    "                                rot = 1.5,\n",
    "                                gamma = 1.5,\n",
    "                                hue = 1.0,\n",
    "                                dark = 0.525,\n",
    "                                light = 0.96,\n",
    "                                reverse = False,\n",
    "                                as_cmap = True)\n",
    "ax = seaborn.heatmap(sdo_major_pivot, \n",
    "                     annot = True, \n",
    "                     cmap = cmap,\n",
    "                     cbar = False,\n",
    "                     mask = sdo_mask,\n",
    "                     annot_kws = {\"weight\" : \"extra bold\"},\n",
    "                     fmt = \".1%\", \n",
    "                     linewidths = 2,\n",
    "                     vmin=0.0, \n",
    "                     vmax=1.0)\n",
    "\n",
    "ax.set_title(\"Ship Damage Probabilty for Event Card Bonus (plus 1):\\n'Probability at least X many major successes given Y sized dice pool'\",\n",
    "            fontsize=32)\n",
    "ax.set_xlabel(\"Number of major successes\", fontsize=32)\n",
    "ax.set_ylabel(\"Size of dice pool\", fontsize=32)\n",
    "\n",
    "\n",
    "fig = ax.get_figure()\n",
    "fig.savefig(\"sdo_15_major_successes.pdf\")"
   ]
  },
  {
   "cell_type": "code",
   "execution_count": null,
   "metadata": {
    "collapsed": true
   },
   "outputs": [],
   "source": []
  }
 ],
 "metadata": {
  "anaconda-cloud": {},
  "kernelspec": {
   "display_name": "Python 2",
   "language": "python",
   "name": "python2"
  },
  "language_info": {
   "codemirror_mode": {
    "name": "ipython",
    "version": 2
   },
   "file_extension": ".py",
   "mimetype": "text/x-python",
   "name": "python",
   "nbconvert_exporter": "python",
   "pygments_lexer": "ipython2",
   "version": "2.7.13"
  }
 },
 "nbformat": 4,
 "nbformat_minor": 2
}
