{
 "cells": [
  {
   "cell_type": "code",
   "execution_count": 3,
   "metadata": {},
   "outputs": [],
   "source": [
    "%matplotlib inline\n",
    "\n",
    "import itertools\n",
    "import matplotlib\n",
    "import matplotlib.pyplot\n",
    "import numpy\n",
    "import pandas\n",
    "import scipy.misc\n",
    "import scipy.special\n",
    "import scipy.stats\n",
    "import seaborn"
   ]
  },
  {
   "cell_type": "code",
   "execution_count": 4,
   "metadata": {
    "collapsed": true
   },
   "outputs": [],
   "source": [
    "# colormap for data visualizations\n",
    "cmap = seaborn.cubehelix_palette(n_colors = 6, start = 1.5, rot = 1.5,\n",
    "                                gamma = 1.5, hue = 1.0, dark = 0.525,\n",
    "                                light = 0.96, reverse = False, as_cmap = True)"
   ]
  },
  {
   "cell_type": "markdown",
   "metadata": {},
   "source": [
    "The math for advisors is the same for poker hands. The advisor forum is five cards just like a poker hand."
   ]
  },
  {
   "cell_type": "code",
   "execution_count": 10,
   "metadata": {
    "collapsed": true
   },
   "outputs": [],
   "source": [
    "def advisor_forum_probabilities(bldr_num, xplr_num, mrch_num, sldr_num):\n",
    "    \"\"\"\n",
    "    Find the probability at least 1 guild \"X\" advisor is in the forum to start the game.\n",
    "    The method returns a 4 element tuple with a probability for each guild.\n",
    "    The 4 element tuple has the order (builders, explorers, merchants, soldiers).\n",
    "    \"\"\"\n",
    "    deck_size = bldr_num + xplr_num + mrch_num + sldr_num\n",
    "    \n",
    "    total_forum_hands = scipy.misc.comb(deck_size, 5)\n",
    "    \n",
    "    p_bldr = 1 - scipy.misc.comb(deck_size - bldr_num, 5) / total_forum_hands\n",
    "    \n",
    "    p_xplr = 1 - scipy.misc.comb(deck_size - xplr_num, 5) / total_forum_hands\n",
    "    \n",
    "    p_mrch = 1 - scipy.misc.comb(deck_size - mrch_num, 5) / total_forum_hands\n",
    "    \n",
    "    p_sldr = 1 - scipy.misc.comb(deck_size - sldr_num, 5) / total_forum_hands\n",
    "    \n",
    "    advisor_prob = (p_bldr, p_xplr, p_mrch, p_sldr)\n",
    "    \n",
    "    return advisor_prob"
   ]
  },
  {
   "cell_type": "markdown",
   "metadata": {},
   "source": [
    "A table that enumerates the advisor deck and the guilds. The order of the *Totals* reflects the order that advisors were revealed in a single play through and will not reflect everyones experience.\n",
    "\n",
    "| Advisor Origin | Builders | Explorers | Merchants (+sell) | Soldiers | Total |\n",
    "| :--- | ---: | ---: | ---: | ---: | ---: |\n",
    "| Starter | 5 | 5 | 5 (3)| 5 | 20 |\n",
    "| **Total I** | **5** | **5** | **5 (3)** | **5** | **20** |\n",
    "| Dangerous Waters | 3 | 5 | 2 (1) | 6 | 16 |\n",
    "| **Total II** | **8** | **10** | **7 (4)** | **11** | **36** |\n",
    "| Tombs | 0 | 6 | 0 | 0 | 6 |\n",
    "| **Total III** | **8** | **16** | **7 (4)** | **11** | **42** |\n",
    "| Colonies | 6 | 0 | 10 (8) | 0 | 16 |\n",
    "| **Total IV** | **14** | **16** | **17 (12)** | **11** | **58** |"
   ]
  },
  {
   "cell_type": "code",
   "execution_count": 11,
   "metadata": {},
   "outputs": [],
   "source": [
    "advisor_prob_I = advisor_forum_probabilities(5, 5, 5, 5)\n",
    "advisor_prob_II = advisor_forum_probabilities(8, 10, 7, 11)\n",
    "advisor_prob_III = advisor_forum_probabilities(8, 16, 7, 11)\n",
    "advisor_prob_IV_sell = advisor_forum_probabilities(19, 16, 12, 11)\n",
    "advisor_prob_IV = advisor_forum_probabilities(14, 16, 17, 11)"
   ]
  },
  {
   "cell_type": "code",
   "execution_count": 15,
   "metadata": {},
   "outputs": [
    {
     "name": "stdout",
     "output_type": "stream",
     "text": [
      "(0.80630804953560375, 0.80630804953560375, 0.80630804953560375, 0.80630804953560375)\n",
      "(0.73930481283422456, 0.82551353874883282, 0.68499331550802145, 0.85906862745098045)\n",
      "(0.6728970644246639, 0.92267253499602664, 0.61837990849544122, 0.80026167670583592)\n",
      "(0.87434691745036575, 0.81435040055729713, 0.70084694494857835, 0.66523348601388532)\n",
      "(0.76298985010418763, 0.81435040055729713, 0.83645154334809502, 0.66523348601388532)\n"
     ]
    }
   ],
   "source": [
    "print(advisor_prob_I)\n",
    "print(advisor_prob_II)\n",
    "print(advisor_prob_III)\n",
    "print(advisor_prob_IV_sell)\n",
    "print(advisor_prob_IV)"
   ]
  },
  {
   "cell_type": "code",
   "execution_count": 14,
   "metadata": {},
   "outputs": [
    {
     "data": {
      "text/plain": [
       "0.5120000000000001"
      ]
     },
     "execution_count": 14,
     "metadata": {},
     "output_type": "execute_result"
    }
   ],
   "source": []
  },
  {
   "cell_type": "code",
   "execution_count": null,
   "metadata": {
    "collapsed": true
   },
   "outputs": [],
   "source": []
  }
 ],
 "metadata": {
  "kernelspec": {
   "display_name": "Python 3",
   "language": "python",
   "name": "python3"
  },
  "language_info": {
   "codemirror_mode": {
    "name": "ipython",
    "version": 3
   },
   "file_extension": ".py",
   "mimetype": "text/x-python",
   "name": "python",
   "nbconvert_exporter": "python",
   "pygments_lexer": "ipython3",
   "version": "3.6.1"
  }
 },
 "nbformat": 4,
 "nbformat_minor": 2
}
