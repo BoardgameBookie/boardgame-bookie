{
 "cells": [
  {
   "cell_type": "markdown",
   "metadata": {},
   "source": [
    "Is the Blue Team more likely to win than the Red Team by default?\n",
    "\n",
    "With zero information, yes, the President is more likely than not to survive, though this bias is reduced as the player count increases. To show this is true the a game of Two Rooms and a Boom, no matter how many rounds, can be simplified to the process of assigning roles at the beginning of the game when no information is collected between the players. *Note, this sounds like a boring way to play the game, with no color sharing or card sharing. However, adding Yog-Sothoth to the mix can create an environment where everyone is relectant to speak.*"
   ]
  },
  {
   "cell_type": "markdown",
   "metadata": {},
   "source": [
    "With perfect information, the Two Rooms and Boom simplifies to two different games:\n",
    "1. In the final round, if the President and Bomber are in the same room, then the team of the leader of that room will win.\n",
    "1. In the final round, if the President and Bomber are in seperate rooms, then Two Rooms and a Boom becomes a coin-toss mixed with a staring contest.\n",
    "   There are 4 scenarios for the hostage exchange:\n",
    "   1. Room A and Room B leaders choose the President and Bomber as hostages. The President and Bomber changes rooms and remain seperated and the Blue Team wins.\n",
    "   1. Room A and Room B leaders choose the President and a random hostage that is not the Bomber. The President enters the same room as the Bomber and the Red Team wins.\n",
    "   1. Room A and Room B leaders choose the Bomber and a random hostage that is not the President. The Bomber enters the same room as the President and the Red Team wins.\n",
    "   1. Room A and Room B leaders choose 2 random hostages that are not the President and not the Bomber. The President and Bomber remain seperated and the Blue Team wins.\n",
    "   \n",
    "When the President and Bomber are in seperate rooms entering the final round, then it is 50-50 odds that either the Blue Team or Red Team will win. However, despite the scenario seemingly being left to chance, tension in the game remains. The difference in the outcome would come during the hostage negotation when on one leader can reading the other leader's poker face or psyching-out the other leader."
   ]
  },
  {
   "cell_type": "code",
   "execution_count": null,
   "metadata": {
    "collapsed": true
   },
   "outputs": [],
   "source": []
  }
 ],
 "metadata": {
  "kernelspec": {
   "display_name": "Python 3",
   "language": "python",
   "name": "python3"
  },
  "language_info": {
   "codemirror_mode": {
    "name": "ipython",
    "version": 3
   },
   "file_extension": ".py",
   "mimetype": "text/x-python",
   "name": "python",
   "nbconvert_exporter": "python",
   "pygments_lexer": "ipython3",
   "version": "3.6.3"
  }
 },
 "nbformat": 4,
 "nbformat_minor": 2
}
